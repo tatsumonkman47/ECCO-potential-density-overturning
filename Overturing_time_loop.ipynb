{
 "cells": [
  {
   "cell_type": "code",
   "execution_count": 10,
   "metadata": {},
   "outputs": [],
   "source": [
    "import numpy as np\n",
    "import xarray as xr\n",
    "from importlib import reload\n",
    "\n",
    "from analysis_package import plotting_functions\n",
    "from analysis_package import open_datasets\n",
    "from analysis_package import derive_potential_density_values_TEST\n",
    "from analysis_package import ecco_masks\n",
    "from analysis_package import potential_density_overturning\n",
    "\n",
    "ecco_masks = reload(ecco_masks)\n",
    "plotting_functions = reload(plotting_functions)\n",
    "open_datasets = reload(open_datasets)\n",
    "derive_potential_density_values_TEST = reload(derive_potential_density_values_TEST)\n",
    "potential_density_overturning = reload(potential_density_overturning)"
   ]
  },
  {
   "cell_type": "code",
   "execution_count": 15,
   "metadata": {},
   "outputs": [],
   "source": [
    "data_dir = \"./nctiles_monthly/\"\n",
    "\n",
    "UVELMASS_var = \"UVELMASS\"\n",
    "VVELMASS_var = \"VVELMASS\"\n",
    "BOLUS_UVEL_var = \"BOLUS_UVEL\"\n",
    "BOLUS_VVEL_var = \"BOLUS_VVEL\"\n",
    "\n",
    "# RHOAnoma: insitu density anomaly\n",
    "RHOAnoma_var_str = \"RHOAnoma\"\n",
    "# PHIHYD: insitu pressure anomaly with respect to the depth integral of gravity and reference density (g*rho_reference)\n",
    "PHIHYD_var_str = \"PHIHYD\"\n",
    "# SALT: insitu salinity (psu)\n",
    "SALT_var_str = \"SALT\"\n",
    "# THETA: potential pressure (C)\n",
    "THETA_var_str = \"THETA\"\n",
    "\n",
    "grid_path = \"./ecco_grid/ECCOv4r3_grid.nc\"\n",
    "grid = xr.open_dataset(grid_path)"
   ]
  },
  {
   "cell_type": "code",
   "execution_count": 16,
   "metadata": {},
   "outputs": [],
   "source": [
    "maskW = xr.open_dataset(\"generic_masks/maskW.nc\")\n",
    "maskS = xr.open_dataset(\"generic_masks/maskS.nc\")\n",
    "maskC = xr.open_dataset(\"generic_masks/maskC.nc\")"
   ]
  },
  {
   "cell_type": "code",
   "execution_count": 17,
   "metadata": {},
   "outputs": [],
   "source": [
    "southern_ocean_mask_W, southern_ocean_mask_S, so_atl_basin_mask_W, so_atl_basin_mask_S, so_indpac_basin_mask_W, so_indpac_basin_mask_S = ecco_masks.get_basin_masks(maskW, maskS, maskC)\n"
   ]
  },
  {
   "cell_type": "code",
   "execution_count": null,
   "metadata": {},
   "outputs": [
    {
     "name": "stdout",
     "output_type": "stream",
     "text": [
      "Loaded UVELMASS over time slice  \n",
      "\n"
     ]
    }
   ],
   "source": [
    "all_times_times_slice=np.arange(0,288)\n",
    "\n",
    "# load data files from central directory\n",
    "UVELMASS_ds_raw = open_datasets.open_combine_raw_ECCO_tile_files(data_dir, UVELMASS_var, all_times_times_slice)\n",
    "VVELMASS_ds_raw = open_datasets.open_combine_raw_ECCO_tile_files(data_dir, VVELMASS_var, all_times_times_slice)\n",
    "BOLUS_UVEL_raw = open_datasets.open_combine_raw_ECCO_tile_files(data_dir, BOLUS_UVEL_var, all_times_times_slice, rename_indices=False)\n",
    "BOLUS_VVEL_raw = open_datasets.open_combine_raw_ECCO_tile_files(data_dir, BOLUS_VVEL_var, all_times_times_slice, rename_indices=False)\n",
    "PHIHYD_ds_raw = open_datasets.open_combine_raw_ECCO_tile_files(data_dir, PHIHYD_var_str, all_times_times_slice)\n",
    "SALT_ds_raw = open_datasets.open_combine_raw_ECCO_tile_files(data_dir, SALT_var_str, all_times_times_slice)\n",
    "THETA_ds_raw = open_datasets.open_combine_raw_ECCO_tile_files(data_dir, THETA_var_str, time_slice)\n",
    "\n",
    "# set data file indecies starting from zero.\n",
    "UVELMASS_ds_raw = UVELMASS_ds_raw.assign_coords(i_g=np.arange(0,90),j=np.arange(0,90),k=np.arange(0,50))\n",
    "VVELMASS_ds_raw = VVELMASS_ds_raw.assign_coords(i=np.arange(0,90),j_g=np.arange(0,90),k=np.arange(0,50))\n",
    "BOLUS_UVEL_raw = BOLUS_UVEL_raw.assign_coords(i_g=np.arange(0,90),j=np.arange(0,90),k=np.arange(0,50))\n",
    "BOLUS_VVEL_raw = BOLUS_VVEL_raw.assign_coords(i=np.arange(0,90),j_g=np.arange(0,90),k=np.arange(0,50))\n",
    "PHIHYD_ds_raw = PHIHYD_ds_raw.assign_coords(i=np.arange(0,90),j=np.arange(0,90),k=np.arange(0,50))\n",
    "SALT_ds_raw = SALT_ds_raw.assign_coords(i=np.arange(0,90),j=np.arange(0,90),k=np.arange(0,50))\n",
    "THETA_ds_raw = THETA_ds_raw.assign_coords(i=np.arange(0,90),j=np.arange(0,90),k=np.arange(0,50))\n",
    "\n",
    "# calculate potential density and in situ pressure\n",
    "PDENS_ds, P_INSITY_ds = derive_potential_density_values_TEST.make_potential_density_dataset(PHIHYD_ds_raw, \n",
    "                                                                                            SALT_ds_raw, \n",
    "                                                                                            THETA_ds_raw, \n",
    "                                                                                            all_times_times_slice, \n",
    "                                                                                            ref_pressure=2000.)\n",
    "# set data file indecies starting from zero.\n",
    "PDENS_ds = PDENS_ds.assign_coords(i=np.arange(0,90),j=np.arange(0,90),k=np.arange(0,50))\n"
   ]
  },
  {
   "cell_type": "code",
   "execution_count": null,
   "metadata": {
    "scrolled": false
   },
   "outputs": [],
   "source": [
    "time_slice = []\n",
    "for i in range(0,24):\n",
    "    time_slice.append(np.arange(i*12,(i+1)*12))\n",
    "\n",
    "for t_slice in time_slice:\n",
    "    dint_latx, dint_laty, dint_interp_latx, dint_interp_laty = potential_density_overturning.perform_potential_density_overturning_calculation(t_slice,PDENS_ds,UVELMASS_ds_raw,VVELMASS_ds_raw,\n",
    "                                                                                                                                               BOLUS_UVEL_raw, BOLUS_VVEL_raw, \n",
    "                                                                                                                                               so_atl_basin_mask_W,so_atl_basin_mask_S)\n",
    "    dint_latx.to_netcdf(\"./overturning_output/atl_so_depth_integrated_pdens_transport_latx_\"+str(t_slice[0])+\"_to_\"+str(t_slice[-1])+\".nc\")\n",
    "    dint_laty.to_netcdf(\"./overturning_output/atl_so_depth_integrated_pdens_transport_laty_\"+str(t_slice[0])+\"_to_\"+str(t_slice[-1])+\".nc\")\n",
    "    dint_interp_latx.to_netcdf(\"./overturning_output/atl_so_depth_integrated_x_interp_results_\"+str(t_slice[0])+\"_to_\"+str(t_slice[-1])+\".nc\")\n",
    "    dint_interp_laty.to_netcdf(\"./overturning_output/atl_so_depth_integrated_y_interp_results_\"+str(t_slice[0])+\"_to_\"+str(t_slice[-1])+\".nc\")\n",
    "    print()\n",
    "\n"
   ]
  },
  {
   "cell_type": "code",
   "execution_count": null,
   "metadata": {},
   "outputs": [],
   "source": [
    "for t_slice in time_slice:\n",
    "    depth_integrated_pdens_transport_latx, depth_integrated_pdens_transport_laty, depth_integrated_x_interp_results, depth_integrated_y_interp_results = potential_density_overturning.perform_potential_density_overturning_calculation(t_slice,so_indpac_basin_mask_W,so_indpac_basin_mask_S)\n",
    "    depth_integrated_pdens_transport_latx.to_netcdf(\"./overturning_output/indpac_so_depth_integrated_pdens_transport_latx_\"+str(t_slice[0])+\"_to_\"+str(t_slice[-1])+\".nc\")\n",
    "    depth_integrated_pdens_transport_laty.to_netcdf(\"./overturning_output/indpac_so_depth_integrated_pdens_transport_laty_\"+str(t_slice[0])+\"_to_\"+str(t_slice[-1])+\".nc\")\n",
    "    depth_integrated_x_interp_results.to_netcdf(\"./overturning_output/indpac_so_depth_integrated_x_interp_results_\"+str(t_slice[0])+\"_to_\"+str(t_slice[-1])+\".nc\")\n",
    "    depth_integrated_y_interp_results.to_netcdf(\"./overturning_output/indpac_so_depth_integrated_y_interp_results_\"+str(t_slice[0])+\"_to_\"+str(t_slice[-1])+\".nc\")\n",
    "    print()\n",
    "\n",
    "for t_slice in time_slice:\n",
    "    depth_integrated_pdens_transport_latx, depth_integrated_pdens_transport_laty, depth_integrated_x_interp_results, depth_integrated_y_interp_results = potential_density_overturning.perform_potential_density_overturning_calculation(t_slice,southern_ocean_mask_W,southern_ocean_mask_S)\n",
    "    depth_integrated_pdens_transport_latx.to_netcdf(\"./overturning_output/so_depth_integrated_pdens_transport_latx_\"+str(t_slice[0])+\"_to_\"+str(t_slice[-1])+\".nc\")\n",
    "    depth_integrated_pdens_transport_laty.to_netcdf(\"./overturning_output/so_depth_integrated_pdens_transport_laty_\"+str(t_slice[0])+\"_to_\"+str(t_slice[-1])+\".nc\")\n",
    "    depth_integrated_x_interp_results.to_netcdf(\"./overturning_output/so_depth_integrated_x_interp_results_\"+str(t_slice[0])+\"_to_\"+str(t_slice[-1])+\".nc\")\n",
    "    depth_integrated_y_interp_results.to_netcdf(\"./overturning_output/so_depth_integrated_y_interp_results_\"+str(t_slice[0])+\"_to_\"+str(t_slice[-1])+\".nc\")\n",
    "    print()    "
   ]
  },
  {
   "cell_type": "code",
   "execution_count": null,
   "metadata": {},
   "outputs": [],
   "source": []
  }
 ],
 "metadata": {
  "kernelspec": {
   "display_name": "Python 3",
   "language": "python",
   "name": "python3"
  },
  "language_info": {
   "codemirror_mode": {
    "name": "ipython",
    "version": 3
   },
   "file_extension": ".py",
   "mimetype": "text/x-python",
   "name": "python",
   "nbconvert_exporter": "python",
   "pygments_lexer": "ipython3",
   "version": "3.6.0"
  }
 },
 "nbformat": 4,
 "nbformat_minor": 2
}

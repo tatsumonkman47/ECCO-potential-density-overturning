{
 "cells": [
  {
   "cell_type": "code",
   "execution_count": 213,
   "metadata": {},
   "outputs": [],
   "source": [
    "import numpy as np\n",
    "import matplotlib.pyplot as plt\n",
    "import xarray as xr\n"
   ]
  },
  {
   "cell_type": "code",
   "execution_count": 290,
   "metadata": {},
   "outputs": [],
   "source": [
    "density_array = xr.DataArray(np.zeros((20,20)))\n",
    "a = np.zeros((20))\n",
    "a[0] = a[0] + 1\n",
    "a[2] = a[2] + 1\n",
    "a[4] = a[4] + 1\n",
    "a[6] = a[6] + 1\n",
    "a[8] = a[8] + 1\n",
    "a[10] = a[10] + 1\n",
    "a[12] = a[12] + 1\n",
    "a[14] = a[14] + 1\n",
    "a[16] = a[16] + 1\n",
    "a[18] = a[18] + 1\n",
    "\n",
    "for i in range(len(a)):\n",
    "    a[i] = a[i] + i\n",
    "\n",
    "d_array = np.arange(0,200,10) + 5 \n",
    "cell_thickness_array = np.ones(d_array.shape)*10\n",
    "\n",
    "depth = xr.DataArray(np.expand_dims(d_array,axis=0)).rename({\"dim_1\":\"depth\"}).squeeze(\"dim_0\")\n",
    "cell_thickness = xr.DataArray(np.expand_dims(cell_thickness_array,axis=0)).rename({\"dim_1\":\"depth\"}).squeeze(\"dim_0\")\n",
    "\n",
    "for i in range(len(depth)):\n",
    "    depth[i] = depth[i] + i\n",
    "    \n",
    "velocity_array = xr.DataArray(np.ones((20,20))).assign_coords(dim_0 = d_array).rename({\"dim_0\":\"depth\",\"dim_1\":\"lat\"})\n",
    "\n",
    "for i in range(0,20):\n",
    "    density_array[i] = density_array[i] + i*5 + a\n",
    "\n",
    "density_array = density_array.assign_coords(dim_0 = d_array).rename({\"dim_0\":\"depth\",\"dim_1\":\"lat\"})\n",
    "\n",
    "density_level = 90\n"
   ]
  },
  {
   "cell_type": "code",
   "execution_count": 291,
   "metadata": {},
   "outputs": [
    {
     "name": "stdout",
     "output_type": "stream",
     "text": [
      "<xarray.DataArray (depth: 20)>\n",
      "array([  5,  16,  27,  38,  49,  60,  71,  82,  93, 104, 115, 126, 137, 148,\n",
      "       159, 170, 181, 192, 203, 214])\n",
      "Dimensions without coordinates: depth\n"
     ]
    }
   ],
   "source": [
    "print(depth)"
   ]
  },
  {
   "cell_type": "code",
   "execution_count": 292,
   "metadata": {},
   "outputs": [
    {
     "data": {
      "image/png": "[encoded data removed]",
      "text/plain": [
       "<matplotlib.figure.Figure at 0x320e7f5f8>"
      ]
     },
     "metadata": {
      "needs_background": "light"
     },
     "output_type": "display_data"
    },
    {
     "data": {
      "image/png": "[encoded data removed]",
      "text/plain": [
       "<matplotlib.figure.Figure at 0x3211b4fd0>"
      ]
     },
     "metadata": {
      "needs_background": "light"
     },
     "output_type": "display_data"
    },
    {
     "data": {
      "image/png": "[encoded data removed]",
      "text/plain": [
       "<matplotlib.figure.Figure at 0x32142bf28>"
      ]
     },
     "metadata": {
      "needs_background": "light"
     },
     "output_type": "display_data"
    }
   ],
   "source": [
    "plt.pcolor(np.flip(density_array,axis=0))\n",
    "plt.colorbar()\n",
    "plt.show()\n",
    "plt.close()\n",
    "\n",
    "plt.pcolor(np.flip(density_array > density_level,axis=0)*np.flip(density_array,axis=0))\n",
    "plt.title(\"np.flip(density_array > density_level,axis=0)*np.flip(d_array.T,axis=0)\")\n",
    "plt.colorbar()\n",
    "plt.show()\n",
    "plt.close()\n",
    "\n",
    "plt.pcolor(np.flip(density_array > density_level,axis=0))\n",
    "plt.colorbar()\n",
    "plt.show()\n",
    "plt.close()"
   ]
  },
  {
   "cell_type": "code",
   "execution_count": 301,
   "metadata": {},
   "outputs": [],
   "source": [
    "density_stencil = density_array > density_level\n",
    "# set end-appended value equal to 1 for subtraction step..\n",
    "density_stencil_above = np.concatenate((density_stencil[1:,:],density_stencil[-1:,:]),axis=0)\n",
    "# set top-appended value equal to zero..\n",
    "density_stencil_below = np.concatenate((density_stencil[:1,:]*0,density_stencil[:-1,:]),axis=0)\n",
    "density_stencil_above_top_level = density_stencil_above - density_stencil\n",
    "density_stencil_top_level = density_stencil - density_stencil_below\n",
    "\n",
    "\n",
    "depth_above_top_level_1 = (density_stencil_above_top_level*depth).sum(dim=\"depth\")\n",
    "depth_above_top_level = depth_above_top_level_1.where(depth_above_top_level_1 > 0,other=np.nan)\n",
    "\n",
    "depth_top_level_1 = (density_stencil_top_level*depth).sum(dim=\"depth\")\n",
    "depth_top_level = depth_top_level_1.where(depth_top_level_1 > 0,other=np.nan)\n",
    "\n",
    "density_above_top_level = (density_stencil_above_top_level*density_array).sum(dim=\"depth\")\n",
    "density_top_level = (density_stencil_top_level*density_array).sum(dim=\"depth\")\n",
    "\n",
    "velocity_above_top_level = (density_stencil_above_top_level*velocity_array/cell_thickness).sum(dim=\"depth\")\n",
    "velocity_top_level = (density_stencil_top_level*velocity_array/cell_thickness).sum(dim=\"depth\")\n",
    "\n",
    "density_slope = (depth_above_top_level - depth_top_level)/(density_above_top_level - density_top_level)\n",
    "velocity_slope = (velocity_above_top_level - velocity_top_level)/(depth_above_top_level - depth_top_level)\n",
    "\n",
    "h_array = (density_level - density_top_level)*density_slope\n",
    "\n",
    "transport_integral_1 = velocity_slope*((depth.max() - depth_top_level - h_array)**2) + velocity_top_level*(-h_array)\n",
    "transport_integral_1 = transport_integral_1.fillna(0)\n",
    "transport_integral_2 = velocity_slope*((depth.max() - depth_top_level)**2)\n",
    "transport_integral_2 = transport_integral_2.fillna(0)\n",
    "\n",
    "\n",
    "\n",
    "transport_level = transport_integral_1 - transport_integral_2\n",
    "\n",
    "\n"
   ]
  },
  {
   "cell_type": "code",
   "execution_count": 308,
   "metadata": {},
   "outputs": [
    {
     "name": "stdout",
     "output_type": "stream",
     "text": [
      "<xarray.DataArray (lat: 20)>\n",
      "array([ 1.,  1.,  1.,  1.,  1.,  1.,  1.,  0.,  0.,  0.,  0.,  0.,  0.,  0.,\n",
      "        0.,  0.,  0.,  0.,  0.,  0.])\n",
      "Dimensions without coordinates: lat\n",
      "<xarray.DataArray (depth: 20, lat: 20)>\n",
      "array([[  0,   0,   0, ...,   0,   0,   0],\n",
      "       [  0,   0,   0, ...,   0,   0,   0],\n",
      "       [  0,   0,   0, ...,   0,   0,   0],\n",
      "       ..., \n",
      "       [192, 192, 192, ...,   0,   0,   0],\n",
      "       [  0,   0,   0, ...,   0,   0,   0],\n",
      "       [  0,   0,   0, ...,   0,   0,   0]])\n",
      "Coordinates:\n",
      "  * depth    (depth) int64 5 16 27 38 49 60 71 ... 148 159 170 181 192 203 214\n",
      "Dimensions without coordinates: lat\n"
     ]
    },
    {
     "data": {
      "text/plain": [
       "<matplotlib.collections.PolyCollection at 0x321ab2860>"
      ]
     },
     "execution_count": 308,
     "metadata": {},
     "output_type": "execute_result"
    },
    {
     "data": {
      "image/png": "[encoded data removed]",
      "text/plain": [
       "<matplotlib.figure.Figure at 0x3211ac748>"
      ]
     },
     "metadata": {
      "needs_background": "light"
     },
     "output_type": "display_data"
    }
   ],
   "source": [
    "a = (transport_level*0+1)\n",
    "a[7:] = 0\n",
    "print(a)\n",
    "print(depth*density_stencil_above_top_level)\n",
    "plt.pcolor(depth*density_stencil_above_top_level*a)\n",
    "#print(density_top_level)\n",
    "#print(density_slope)\n",
    "#print(depth_above_top_level)\n",
    "#print(depth_top_level)\n",
    "#print(density_above_top_level)\n",
    "#print(density_top_level)"
   ]
  },
  {
   "cell_type": "code",
   "execution_count": 259,
   "metadata": {},
   "outputs": [
    {
     "name": "stdout",
     "output_type": "stream",
     "text": [
      "<xarray.DataArray (depth: 19, lat: 20)>\n",
      "array([[False, False, False, ..., False, False, False],\n",
      "       [False, False, False, ..., False, False, False],\n",
      "       [False, False, False, ..., False, False, False],\n",
      "       ..., \n",
      "       [False, False, False, ...,  True,  True,  True],\n",
      "       [ True,  True,  True, ...,  True,  True,  True],\n",
      "       [ True,  True,  True, ...,  True,  True,  True]], dtype=bool)\n",
      "Coordinates:\n",
      "  * depth    (depth) int64 16 27 38 49 60 71 82 ... 148 159 170 181 192 203 214\n",
      "Dimensions without coordinates: lat\n"
     ]
    }
   ],
   "source": [
    "print(density_stencil.isel(depth=slice(1,20)))\n"
   ]
  },
  {
   "cell_type": "code",
   "execution_count": 283,
   "metadata": {},
   "outputs": [
    {
     "data": {
      "image/png": "[encoded data removed]",
      "text/plain": [
       "<matplotlib.figure.Figure at 0x321337240>"
      ]
     },
     "metadata": {
      "needs_background": "light"
     },
     "output_type": "display_data"
    },
    {
     "data": {
      "image/png": "[encoded data removed]",
      "text/plain": [
       "<matplotlib.figure.Figure at 0x3210e7128>"
      ]
     },
     "metadata": {
      "needs_background": "light"
     },
     "output_type": "display_data"
    },
    {
     "data": {
      "image/png": "[encoded data removed]",
      "text/plain": [
       "<matplotlib.figure.Figure at 0x110eab2b0>"
      ]
     },
     "metadata": {
      "needs_background": "light"
     },
     "output_type": "display_data"
    }
   ],
   "source": [
    "plt.pcolor(density_stencil*density_array)\n",
    "plt.title(\"np.flip(density_stencil_above,axis=0)\")\n",
    "plt.gca().invert_yaxis()\n",
    "plt.colorbar()\n",
    "plt.show()\n",
    "plt.close()\n",
    "\n",
    "plt.pcolor(density_stencil_top_level*density_array)\n",
    "plt.title(\"np.flip(density_stencil_top_level,axis=0)\")\n",
    "plt.gca().invert_yaxis()\n",
    "plt.colorbar()\n",
    "plt.show()\n",
    "plt.close()\n",
    "\n",
    "plt.pcolor(density_stencil_above_top_level*density_array)\n",
    "plt.title(\"np.flip(density_stencil_above_top_level,axis=0)\")\n",
    "plt.gca().invert_yaxis()\n",
    "plt.colorbar()\n",
    "plt.show()\n",
    "plt.close()"
   ]
  },
  {
   "cell_type": "code",
   "execution_count": 261,
   "metadata": {},
   "outputs": [
    {
     "name": "stdout",
     "output_type": "stream",
     "text": [
      "<xarray.DataArray (lat: 20)>\n",
      "array([ 0.,  0.,  0.,  0.,  0.,  0.,  0.,  0.,  0.,  0.,  0.,  0.,  0.,  0.,\n",
      "        0.,  0.,  0.,  0.,  0.,  0.])\n",
      "Dimensions without coordinates: lat\n"
     ]
    }
   ],
   "source": [
    "print(transport_level)"
   ]
  },
  {
   "cell_type": "code",
   "execution_count": 253,
   "metadata": {},
   "outputs": [],
   "source": [
    "data = np.arange(0,20)*0+1\n",
    "data[0] = 0\n",
    "depth = np.arange(0,20)\n",
    "\n",
    "a = xr.DataArray(data,coords=[depth],dims=[\"depth\"])"
   ]
  },
  {
   "cell_type": "code",
   "execution_count": 254,
   "metadata": {},
   "outputs": [
    {
     "name": "stdout",
     "output_type": "stream",
     "text": [
      "<xarray.DataArray (depth: 20)>\n",
      "array([0, 1, 1, 1, 1, 1, 1, 1, 1, 1, 1, 1, 1, 1, 1, 1, 1, 1, 1, 1])\n",
      "Coordinates:\n",
      "  * depth    (depth) int64 0 1 2 3 4 5 6 7 8 9 10 11 12 13 14 15 16 17 18 19\n"
     ]
    }
   ],
   "source": [
    "print(a)"
   ]
  },
  {
   "cell_type": "code",
   "execution_count": 255,
   "metadata": {},
   "outputs": [],
   "source": [
    "b = xr.concat((a.isel(depth=0)*0,a.isel(depth=slice(0,19))),dim=\"depth\").assign_coords(depth=depth)\n"
   ]
  },
  {
   "cell_type": "code",
   "execution_count": 256,
   "metadata": {},
   "outputs": [
    {
     "name": "stdout",
     "output_type": "stream",
     "text": [
      "<xarray.DataArray (depth: 20)>\n",
      "array([0, 1, 1, 1, 1, 1, 1, 1, 1, 1, 1, 1, 1, 1, 1, 1, 1, 1, 1, 1])\n",
      "Coordinates:\n",
      "  * depth    (depth) int64 0 1 2 3 4 5 6 7 8 9 10 11 12 13 14 15 16 17 18 19\n",
      "<xarray.DataArray (depth: 20)>\n",
      "array([0, 0, 1, 1, 1, 1, 1, 1, 1, 1, 1, 1, 1, 1, 1, 1, 1, 1, 1, 1])\n",
      "Coordinates:\n",
      "  * depth    (depth) int64 0 1 2 3 4 5 6 7 8 9 10 11 12 13 14 15 16 17 18 19\n"
     ]
    }
   ],
   "source": [
    "print(a)\n",
    "print(b)"
   ]
  },
  {
   "cell_type": "code",
   "execution_count": 236,
   "metadata": {},
   "outputs": [
    {
     "name": "stdout",
     "output_type": "stream",
     "text": [
      "<xarray.DataArray (depth: 20)>\n",
      "array([0, 1, 0, 0, 0, 0, 0, 0, 0, 0, 0, 0, 0, 0, 0, 0, 0, 0, 0, 0])\n",
      "Coordinates:\n",
      "  * depth    (depth) int64 0 1 2 3 4 5 6 7 8 9 10 11 12 13 14 15 16 17 18 19\n"
     ]
    }
   ],
   "source": [
    "print(a-b)"
   ]
  },
  {
   "cell_type": "code",
   "execution_count": 169,
   "metadata": {},
   "outputs": [
    {
     "name": "stdout",
     "output_type": "stream",
     "text": [
      "<xarray.DataArray (dim_0: 20)>\n",
      "array([ 0,  1,  2,  3,  4,  5,  6,  7,  8,  9, 10, 11, 12, 13, 14, 15, 16, 17,\n",
      "       18, 19])\n",
      "Dimensions without coordinates: dim_0\n"
     ]
    }
   ],
   "source": []
  },
  {
   "cell_type": "code",
   "execution_count": null,
   "metadata": {},
   "outputs": [],
   "source": []
  }
 ],
 "metadata": {
  "kernelspec": {
   "display_name": "Python 3",
   "language": "python",
   "name": "python3"
  },
  "language_info": {
   "codemirror_mode": {
    "name": "ipython",
    "version": 3
   },
   "file_extension": ".py",
   "mimetype": "text/x-python",
   "name": "python",
   "nbconvert_exporter": "python",
   "pygments_lexer": "ipython3",
   "version": "3.6.0"
  }
 },
 "nbformat": 4,
 "nbformat_minor": 2
}

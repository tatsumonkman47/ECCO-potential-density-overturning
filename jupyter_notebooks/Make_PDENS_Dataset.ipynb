{
 "cells": [
  {
   "cell_type": "code",
   "execution_count": 11,
   "metadata": {},
   "outputs": [],
   "source": [
    "import numpy as np\n",
    "import xarray as xr\n",
    "from importlib import reload\n",
    "\n",
    "from analysis_package import plotting_functions\n",
    "from analysis_package import open_datasets\n",
    "from analysis_package import derive_potential_density_values_TEST\n",
    "from analysis_package import ecco_masks\n",
    "from analysis_package import potential_density_overturning\n",
    "\n",
    "ecco_masks = reload(ecco_masks)\n",
    "plotting_functions = reload(plotting_functions)\n",
    "open_datasets = reload(open_datasets)\n",
    "derive_potential_density_values_TEST = reload(derive_potential_density_values_TEST)\n",
    "potential_density_overturning = reload(potential_density_overturning)\n",
    "\n"
   ]
  },
  {
   "cell_type": "code",
   "execution_count": 2,
   "metadata": {},
   "outputs": [],
   "source": [
    "data_dir = \"./nctiles_monthly/\"\n",
    "\n",
    "# PHIHYD: insitu pressure anomaly with respect to the depth integral of gravity and reference density (g*rho_reference)\n",
    "PHIHYD_var_str = \"PHIHYD\"\n",
    "# SALT: insitu salinity (psu)\n",
    "SALT_var_str = \"SALT\"\n",
    "# THETA: potential pressure (C)\n",
    "THETA_var_str = \"THETA\"\n",
    "\n",
    "grid_path = \"./ecco_grid/ECCOv4r3_grid.nc\"\n",
    "grid = xr.open_dataset(grid_path)"
   ]
  },
  {
   "cell_type": "code",
   "execution_count": 4,
   "metadata": {},
   "outputs": [
    {
     "name": "stdout",
     "output_type": "stream",
     "text": [
      "Loaded PHIHYD over time slice  \n",
      "\n",
      "Loaded SALT over time slice  \n",
      "\n",
      "Loaded THETA over time slice  \n",
      "\n"
     ]
    }
   ],
   "source": [
    "all_times_times_slice = np.arange(0,288)\n",
    "\n",
    "PHIHYD_ds_raw = open_datasets.open_combine_raw_ECCO_tile_files(data_dir, PHIHYD_var_str, all_times_times_slice)\n",
    "SALT_ds_raw = open_datasets.open_combine_raw_ECCO_tile_files(data_dir, SALT_var_str, all_times_times_slice)\n",
    "THETA_ds_raw = open_datasets.open_combine_raw_ECCO_tile_files(data_dir, THETA_var_str, all_times_times_slice)\n",
    "\n",
    "PHIHYD_ds_raw = PHIHYD_ds_raw.assign_coords(i=np.arange(0,90),j=np.arange(0,90),k=np.arange(0,50))\n",
    "SALT_ds_raw = SALT_ds_raw.assign_coords(i=np.arange(0,90),j=np.arange(0,90),k=np.arange(0,50))\n",
    "THETA_ds_raw = THETA_ds_raw.assign_coords(i=np.arange(0,90),j=np.arange(0,90),k=np.arange(0,50))\n"
   ]
  },
  {
   "cell_type": "code",
   "execution_count": 14,
   "metadata": {},
   "outputs": [
    {
     "name": "stdout",
     "output_type": "stream",
     "text": [
      "Frozen(SortedKeysDict({'time': 288, 'k': 50, 'j': 90, 'i': 90, 'tile': 13}))\n"
     ]
    }
   ],
   "source": [
    "print(PHIHYD_ds_raw.dims)"
   ]
  },
  {
   "cell_type": "code",
   "execution_count": 13,
   "metadata": {
    "scrolled": false
   },
   "outputs": [
    {
     "name": "stdout",
     "output_type": "stream",
     "text": [
      "finished 1\n",
      "finished 2\n",
      "finished 3\n",
      "finished 4\n",
      "finished 5\n",
      "finished 6\n",
      "finished 7\n",
      "finished 8\n",
      "finished 9\n",
      "finished 10\n",
      "finished 11\n",
      "finished 12\n",
      "finished 13\n"
     ]
    }
   ],
   "source": [
    "for i in range(1,14):\n",
    "    PDENS_ds, P_INSITY_ds = derive_potential_density_values_TEST.make_potential_density_dataset(PHIHYD_ds_raw.isel(tile=i-1), \n",
    "                                                                                            SALT_ds_raw.isel(tile=i-1), \n",
    "                                                                                            THETA_ds_raw.isel(tile=i-1), \n",
    "                                                                                            all_times_times_slice, \n",
    "                                                                                            ref_pressure=2000.)\n",
    "    if i < 10:\n",
    "        PDENS_ds.to_netcdf(\"./nctiles_monthly/PDENS/PDENS.000\"+str(i)+\".nc\")\n",
    "    else:\n",
    "        PDENS_ds.to_netcdf(\"./nctiles_monthly/PDENS/PDENS.00\"+str(i)+\".nc\")\n",
    "\n",
    "    print(\"finished \"+str(i))"
   ]
  },
  {
   "cell_type": "code",
   "execution_count": 15,
   "metadata": {},
   "outputs": [
    {
     "name": "stdout",
     "output_type": "stream",
     "text": [
      "<xarray.Dataset>\n",
      "Dimensions:  (i: 90, j: 90, k: 50, time: 288)\n",
      "Coordinates:\n",
      "  * time     (time) float64 1.0 2.0 3.0 4.0 5.0 ... 285.0 286.0 287.0 288.0\n",
      "  * k        (k) int64 0 1 2 3 4 5 6 7 8 9 10 ... 40 41 42 43 44 45 46 47 48 49\n",
      "  * j        (j) int64 0 1 2 3 4 5 6 7 8 9 10 ... 80 81 82 83 84 85 86 87 88 89\n",
      "  * i        (i) int64 0 1 2 3 4 5 6 7 8 9 10 ... 80 81 82 83 84 85 86 87 88 89\n",
      "    dep      (k) float64 5.0 15.0 25.0 35.0 ... 5.039e+03 5.461e+03 5.906e+03\n",
      "    tim      (time) datetime64[ns] 1992-01-16 1992-02-16 ... 2015-12-16\n",
      "    lon      (j, i) float64 -127.5 -127.5 -127.5 -127.5 ... -99.42 -105.6 -111.9\n",
      "    lat      (j, i) float64 -57.27 -57.8 -58.32 -58.84 ... -88.03 -88.08 -88.1\n",
      "Data variables:\n",
      "    PDENS    (time, k, j, i) float64 1.036e+03 1.036e+03 1.036e+03 ... nan nan\n",
      "    timstep  (time) float64 732.0 1.428e+03 2.172e+03 ... 2.096e+05 2.104e+05\n",
      "    land     (k, j, i) float64 1.0 1.0 1.0 1.0 1.0 1.0 ... nan nan nan nan nan\n",
      "    area     (j, i) float64 3.544e+09 3.463e+09 ... 3.685e+08 3.611e+08\n",
      "    thic     (k) float64 10.0 10.0 10.0 10.0 10.0 ... 387.5 410.5 433.5 456.5\n",
      "Attributes:\n",
      "    description:    PHIHYD -- ECCO v4 ocean state estimate, release 3 -- 1992...\n",
      "    A:              :Format      = native grid (nctiles w. 13 tiles)\n",
      "    B:              :source      = ECCO consortium (http://ecco-group.org/)\n",
      "    C:              :institution = JPL/UT/MIT/AER\n",
      "    D:              :history     = files revision history :\n",
      "    E:                                 04/20/2017: fill in geometry info for ...\n",
      "    F:                                 11/06/2016: third release of ECCO v4 (...\n",
      "    G:                             estimates revision history (from second re...\n",
      "    H:                                 employs bi-harmonic viscosity (enhance...\n",
      "    I:                                 sea-ice parameters, updated or novel o...\n",
      "    J:                                 GRACE OBP, Aquarius SSS, global mean s...\n",
      "    K:                                 time-series, extended and/or expanded ...\n",
      "    L:                                 revised weights including data and con...\n",
      "    M:                                 to account for grid-size variation and...\n",
      "    N:                                 separate time-mean and time-variable d...\n",
      "    O:                                 and controls, sea-ice costs, and initi...\n",
      "    P:                                 additional controls.\\n \n",
      "    Q:              :references  = Fukumori, I., O. Wang, I. Fenty, G. Forget...\n",
      "    R:                              ECCO Version 4 Release 3, http://hdl.hand...\n",
      "    S:                              Available at ftp://ecco.jpl.nasa.gov/Vers...\n",
      "    T:                             Forget, G., J.-M. Campin, P. Heimbach, C. ...\n",
      "    U:                              and C. Wunsch, 2015: ECCO version 4: an i...\n",
      "    V:                              non-linear inverse modeling and global oc...\n",
      "    W:                              Geoscientific Model Development, 8, 3071-...\n",
      "    date:           21-Apr-2017\n",
      "    Conventions:    CF-1.6\n",
      "    _FillValue:     nan\n",
      "    missing_value:  nan\n",
      "    program:        file created using gcmfaces_IO/write2nctiles.m \\n\n"
     ]
    }
   ],
   "source": [
    "print(PDENS_ds)"
   ]
  },
  {
   "cell_type": "code",
   "execution_count": 16,
   "metadata": {},
   "outputs": [
    {
     "name": "stdout",
     "output_type": "stream",
     "text": [
      "<xarray.Dataset>\n",
      "Dimensions:  (i: 90, j: 90, k: 50, tile: 13, time: 288)\n",
      "Coordinates:\n",
      "  * time     (time) float64 1.0 2.0 3.0 4.0 5.0 ... 285.0 286.0 287.0 288.0\n",
      "  * k        (k) int64 0 1 2 3 4 5 6 7 8 9 10 ... 40 41 42 43 44 45 46 47 48 49\n",
      "  * j        (j) int64 0 1 2 3 4 5 6 7 8 9 10 ... 80 81 82 83 84 85 86 87 88 89\n",
      "  * i        (i) int64 0 1 2 3 4 5 6 7 8 9 10 ... 80 81 82 83 84 85 86 87 88 89\n",
      "    dep      (k) float64 5.0 15.0 25.0 35.0 ... 5.039e+03 5.461e+03 5.906e+03\n",
      "    tim      (time) datetime64[ns] 1992-01-16 1992-02-16 ... 2015-12-16\n",
      "    lon      (tile, j, i) float64 -111.6 -111.3 -110.9 ... -99.42 -105.6 -111.9\n",
      "    lat      (tile, j, i) float64 -88.24 -88.38 -88.52 ... -88.03 -88.08 -88.1\n",
      "Dimensions without coordinates: tile\n",
      "Data variables:\n",
      "    SALT     (tile, time, k, j, i) float64 nan nan nan nan ... nan nan nan nan\n",
      "    timstep  (tile, time) float64 732.0 1.428e+03 ... 2.096e+05 2.104e+05\n",
      "    land     (tile, k, j, i) float64 nan nan nan nan nan ... nan nan nan nan nan\n",
      "    area     (tile, j, i) float64 3.623e+08 3.633e+08 ... 3.685e+08 3.611e+08\n",
      "    thic     (tile, k) float64 10.0 10.0 10.0 10.0 ... 387.5 410.5 433.5 456.5\n",
      "Attributes:\n",
      "    description:    SALT -- ECCO v4 ocean state estimate, release 3 -- 1992-2015\n",
      "    A:              :Format      = native grid (nctiles w. 13 tiles)\n",
      "    B:              :source      = ECCO consortium (http://ecco-group.org/)\n",
      "    C:              :institution = JPL/UT/MIT/AER\n",
      "    D:              :history     = files revision history :\n",
      "    E:                                 04/20/2017: fill in geometry info for ...\n",
      "    F:                                 11/06/2016: third release of ECCO v4 (...\n",
      "    G:                             estimates revision history (from second re...\n",
      "    H:                                 employs bi-harmonic viscosity (enhance...\n",
      "    I:                                 sea-ice parameters, updated or novel o...\n",
      "    J:                                 GRACE OBP, Aquarius SSS, global mean s...\n",
      "    K:                                 time-series, extended and/or expanded ...\n",
      "    L:                                 revised weights including data and con...\n",
      "    M:                                 to account for grid-size variation and...\n",
      "    N:                                 separate time-mean and time-variable d...\n",
      "    O:                                 and controls, sea-ice costs, and initi...\n",
      "    P:                                 additional controls.\\n \n",
      "    Q:              :references  = Fukumori, I., O. Wang, I. Fenty, G. Forget...\n",
      "    R:                              ECCO Version 4 Release 3, http://hdl.hand...\n",
      "    S:                              Available at ftp://ecco.jpl.nasa.gov/Vers...\n",
      "    T:                             Forget, G., J.-M. Campin, P. Heimbach, C. ...\n",
      "    U:                              and C. Wunsch, 2015: ECCO version 4: an i...\n",
      "    V:                              non-linear inverse modeling and global oc...\n",
      "    W:                              Geoscientific Model Development, 8, 3071-...\n",
      "    date:           21-Apr-2017\n",
      "    Conventions:    CF-1.6\n",
      "    _FillValue:     nan\n",
      "    missing_value:  nan\n",
      "    program:        file created using gcmfaces_IO/write2nctiles.m \\n\n"
     ]
    }
   ],
   "source": [
    "print(SALT_ds_raw)"
   ]
  },
  {
   "cell_type": "code",
   "execution_count": null,
   "metadata": {},
   "outputs": [],
   "source": []
  }
 ],
 "metadata": {
  "kernelspec": {
   "display_name": "Python 3",
   "language": "python",
   "name": "python3"
  },
  "language_info": {
   "codemirror_mode": {
    "name": "ipython",
    "version": 3
   },
   "file_extension": ".py",
   "mimetype": "text/x-python",
   "name": "python",
   "nbconvert_exporter": "python",
   "pygments_lexer": "ipython3",
   "version": "3.6.0"
  }
 },
 "nbformat": 4,
 "nbformat_minor": 2
}

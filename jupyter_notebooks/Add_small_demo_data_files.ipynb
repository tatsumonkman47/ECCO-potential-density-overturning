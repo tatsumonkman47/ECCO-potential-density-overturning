{
 "cells": [
  {
   "cell_type": "code",
   "execution_count": 3,
   "metadata": {},
   "outputs": [
    {
     "name": "stderr",
     "output_type": "stream",
     "text": [
      "/Users/Tatsu1/anaconda2/lib/python3.6/site-packages/dask/config.py:168: YAMLLoadWarning: calling yaml.load() without Loader=... is deprecated, as the default Loader is unsafe. Please read https://msg.pyyaml.org/load for full details.\n",
      "  data = yaml.load(f.read()) or {}\n",
      "/Users/Tatsu1/anaconda2/lib/python3.6/site-packages/distributed/config.py:20: YAMLLoadWarning: calling yaml.load() without Loader=... is deprecated, as the default Loader is unsafe. Please read https://msg.pyyaml.org/load for full details.\n",
      "  defaults = yaml.load(f)\n"
     ]
    }
   ],
   "source": [
    "import netCDF4\n",
    "import xarray as xr\n",
    "import numpy as np\n",
    "import os\n"
   ]
  },
  {
   "cell_type": "code",
   "execution_count": 4,
   "metadata": {},
   "outputs": [],
   "source": [
    "data_dir = \"./nctiles_monthly/\"\n",
    "\n",
    "UVELMASS_var = \"UVELMASS\"\n",
    "VVELMASS_var = \"VVELMASS\"\n",
    "BOLUS_UVEL_var = \"BOLUS_UVEL\"\n",
    "BOLUS_VVEL_var = \"BOLUS_VVEL\"\n",
    "\n",
    "#variable_name_list = [\"UVELMASS\", \"VVELMASS\", \"BOLUS_UVEL\", \"BOLUS_VVEL\", \"GM_PsiX\", \"GM_PsiY\", \"PHIHYD\", \"RHOAnoma\",\n",
    "#                     \"SALT\", \"THETA\"]\n",
    "variable_name_list = [\"BOLUS_UVEL\", \"BOLUS_VVEL\"]\n",
    "\n",
    "variable_dir = data_dir+UVELMASS_var+\"/\"\n",
    "variable_dict = {}\n",
    "variable_nc_dict = {}\n",
    "\n"
   ]
  },
  {
   "cell_type": "code",
   "execution_count": 5,
   "metadata": {
    "scrolled": false
   },
   "outputs": [
    {
     "name": "stdout",
     "output_type": "stream",
     "text": [
      "started BOLUS_UVEL\n",
      "finished BOLUS_UVEL\n",
      "started BOLUS_VVEL\n",
      "finished BOLUS_VVEL\n"
     ]
    }
   ],
   "source": [
    "for variable in variable_name_list:\n",
    "    print(\"started \" + variable)\n",
    "    VAR = variable\n",
    "    start_time = 1\n",
    "    end_time = 13\n",
    "    time_slice = slice(start_time,end_time)\n",
    "\n",
    "    variable_dir = data_dir+VAR+\"/\"\n",
    "    small_variable_data_dir = \"./demo_nctiles_monthly/\"+VAR+\"/\"\n",
    "    variable_dict = {}\n",
    "    variable_nc_dict = {}\n",
    "\n",
    "    for i in range(1,14):\n",
    "        if i < 10:\n",
    "            variable_dict[\"tile_\"+str(i)] = xr.open_dataset(variable_dir+VAR+\".000\"+str(i)+\".nc\").load()\n",
    "            if variable == \"BOLUS_UVEL\" or  variable == \"BOLUS_VVEL\":\n",
    "                variable_dict[\"tile_\"+str(i)] = variable_dict[\"tile_\"+str(i)].isel(time=time_slice)\n",
    "            else:\n",
    "                variable_dict[\"tile_\"+str(i)] = variable_dict[\"tile_\"+str(i)].isel(i1=time_slice)\n",
    "        else:\n",
    "            variable_dict[\"tile_\"+str(i)] = xr.open_dataset(variable_dir+VAR+\".00\"+str(i)+\".nc\").load()\n",
    "            if variable == \"BOLUS_UVEL\" or variable == \"BOLUS_VVEL\":\n",
    "                variable_dict[\"tile_\"+str(i)] = variable_dict[\"tile_\"+str(i)].isel(time=time_slice)\n",
    "            else:\n",
    "                variable_dict[\"tile_\"+str(i)] = variable_dict[\"tile_\"+str(i)].isel(i1=time_slice)\n",
    "\n",
    "    for i in range(1,14):\n",
    "        if i < 10:\n",
    "            variable_dict[\"tile_\"+str(i)].to_netcdf(small_variable_data_dir+VAR+\".000\"+str(i)+\".nc\")\n",
    "        else:\n",
    "            variable_dict[\"tile_\"+str(i)].to_netcdf(small_variable_data_dir+VAR+\".00\"+str(i)+\".nc\")\n",
    "\n",
    "    print(\"finished \"+variable)\n",
    "\n"
   ]
  },
  {
   "cell_type": "code",
   "execution_count": null,
   "metadata": {},
   "outputs": [],
   "source": []
  }
 ],
 "metadata": {
  "kernelspec": {
   "display_name": "Python 3",
   "language": "python",
   "name": "python3"
  },
  "language_info": {
   "codemirror_mode": {
    "name": "ipython",
    "version": 3
   },
   "file_extension": ".py",
   "mimetype": "text/x-python",
   "name": "python",
   "nbconvert_exporter": "python",
   "pygments_lexer": "ipython3",
   "version": "3.6.0"
  }
 },
 "nbformat": 4,
 "nbformat_minor": 2
}

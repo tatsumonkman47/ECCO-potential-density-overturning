{
 "cells": [
  {
   "cell_type": "code",
   "execution_count": 1,
   "metadata": {},
   "outputs": [
    {
     "name": "stderr",
     "output_type": "stream",
     "text": [
      "/Users/Tatsu1/anaconda2/lib/python3.6/site-packages/dask/config.py:168: YAMLLoadWarning: calling yaml.load() without Loader=... is deprecated, as the default Loader is unsafe. Please read https://msg.pyyaml.org/load for full details.\n",
      "  data = yaml.load(f.read()) or {}\n",
      "/Users/Tatsu1/anaconda2/lib/python3.6/site-packages/distributed/config.py:20: YAMLLoadWarning: calling yaml.load() without Loader=... is deprecated, as the default Loader is unsafe. Please read https://msg.pyyaml.org/load for full details.\n",
      "  defaults = yaml.load(f)\n"
     ]
    },
    {
     "ename": "TabError",
     "evalue": "inconsistent use of tabs and spaces in indentation (potential_density_overturning.py, line 285)",
     "output_type": "error",
     "traceback": [
      "Traceback \u001b[0;36m(most recent call last)\u001b[0m:\n",
      "  File \u001b[1;32m\"/Users/Tatsu1/anaconda2/lib/python3.6/site-packages/IPython/core/interactiveshell.py\"\u001b[0m, line \u001b[1;32m3296\u001b[0m, in \u001b[1;35mrun_code\u001b[0m\n    exec(code_obj, self.user_global_ns, self.user_ns)\n",
      "\u001b[0;36m  File \u001b[0;32m\"<ipython-input-1-b6422dccbd28>\"\u001b[0;36m, line \u001b[0;32m8\u001b[0;36m, in \u001b[0;35m<module>\u001b[0;36m\u001b[0m\n\u001b[0;31m    from analysis_package import potential_density_overturning\u001b[0m\n",
      "\u001b[0;36m  File \u001b[0;32m\"/Users/Tatsu1/Projects/pd_ECCO_overturning/analysis_package/potential_density_overturning.py\"\u001b[0;36m, line \u001b[0;32m285\u001b[0m\n\u001b[0;31m    return depth_integrated_pdens_transport_latx, depth_integrated_pdens_transport_laty, depth_integrated_x_interp_results, depth_integrated_y_interp_results\u001b[0m\n\u001b[0m                                                                                                                                                             ^\u001b[0m\n\u001b[0;31mTabError\u001b[0m\u001b[0;31m:\u001b[0m inconsistent use of tabs and spaces in indentation\n"
     ]
    }
   ],
   "source": [
    "import numpy as np\n",
    "from importlib import reload\n",
    "\n",
    "from analysis_package import plotting_functions\n",
    "from analysis_package import open_datasets\n",
    "from analysis_package import derive_potential_density_values_TEST\n",
    "from analysis_package import ecco_masks\n",
    "from analysis_package import potential_density_overturning\n",
    "\n",
    "ecco_masks = reload(ecco_masks)\n",
    "plotting_functions = reload(plotting_functions)\n",
    "open_datasets = reload(open_datasets)\n",
    "derive_potential_density_values_TEST = reload(derive_potential_density_values_TEST)\n",
    "potential_density_overturning = reload(potential_density_overturning)"
   ]
  },
  {
   "cell_type": "code",
   "execution_count": 2,
   "metadata": {
    "scrolled": false
   },
   "outputs": [
    {
     "ename": "NameError",
     "evalue": "name 'potential_density_overturning' is not defined",
     "output_type": "error",
     "traceback": [
      "\u001b[0;31m---------------------------------------------------------------------------\u001b[0m",
      "\u001b[0;31mNameError\u001b[0m                                 Traceback (most recent call last)",
      "\u001b[0;32m<ipython-input-2-ab607b74a032>\u001b[0m in \u001b[0;36m<module>\u001b[0;34m\u001b[0m\n\u001b[1;32m      4\u001b[0m \u001b[0;34m\u001b[0m\u001b[0m\n\u001b[1;32m      5\u001b[0m \u001b[0;32mfor\u001b[0m \u001b[0mt_slice\u001b[0m \u001b[0;32min\u001b[0m \u001b[0mtime_slice\u001b[0m\u001b[0;34m:\u001b[0m\u001b[0;34m\u001b[0m\u001b[0m\n\u001b[0;32m----> 6\u001b[0;31m     \u001b[0mdepth_integrated_pdens_transport_latx\u001b[0m\u001b[0;34m,\u001b[0m \u001b[0mdepth_integrated_pdens_transport_laty\u001b[0m\u001b[0;34m,\u001b[0m \u001b[0mdepth_integrated_x_interp_results\u001b[0m\u001b[0;34m,\u001b[0m \u001b[0mdepth_integrated_y_interp_results\u001b[0m \u001b[0;34m=\u001b[0m \u001b[0mpotential_density_overturning\u001b[0m\u001b[0;34m.\u001b[0m\u001b[0mperform_potential_density_overturning_calculation\u001b[0m\u001b[0;34m(\u001b[0m\u001b[0mt_slice\u001b[0m\u001b[0;34m)\u001b[0m\u001b[0;34m\u001b[0m\u001b[0m\n\u001b[0m\u001b[1;32m      7\u001b[0m     \u001b[0mdepth_integrated_pdens_transport_latx\u001b[0m\u001b[0;34m.\u001b[0m\u001b[0mto_netcdf\u001b[0m\u001b[0;34m(\u001b[0m\u001b[0;34m\"./overturning_output/depth_integrated_pdens_transport_latx_\"\u001b[0m\u001b[0;34m+\u001b[0m\u001b[0mstr\u001b[0m\u001b[0;34m(\u001b[0m\u001b[0mt_slice\u001b[0m\u001b[0;34m[\u001b[0m\u001b[0;36m0\u001b[0m\u001b[0;34m]\u001b[0m\u001b[0;34m)\u001b[0m\u001b[0;34m+\u001b[0m\u001b[0;34m\"_to_\"\u001b[0m\u001b[0;34m+\u001b[0m\u001b[0mstr\u001b[0m\u001b[0;34m(\u001b[0m\u001b[0mt_slice\u001b[0m\u001b[0;34m[\u001b[0m\u001b[0;34m-\u001b[0m\u001b[0;36m1\u001b[0m\u001b[0;34m]\u001b[0m\u001b[0;34m)\u001b[0m\u001b[0;34m+\u001b[0m\u001b[0;34m\".nc\"\u001b[0m\u001b[0;34m)\u001b[0m\u001b[0;34m\u001b[0m\u001b[0m\n\u001b[1;32m      8\u001b[0m     \u001b[0mdepth_integrated_pdens_transport_laty\u001b[0m\u001b[0;34m.\u001b[0m\u001b[0mto_netcdf\u001b[0m\u001b[0;34m(\u001b[0m\u001b[0;34m\"./overturning_output/depth_integrated_pdens_transport_laty_\"\u001b[0m\u001b[0;34m+\u001b[0m\u001b[0mstr\u001b[0m\u001b[0;34m(\u001b[0m\u001b[0mt_slice\u001b[0m\u001b[0;34m[\u001b[0m\u001b[0;36m0\u001b[0m\u001b[0;34m]\u001b[0m\u001b[0;34m)\u001b[0m\u001b[0;34m+\u001b[0m\u001b[0;34m\"_to_\"\u001b[0m\u001b[0;34m+\u001b[0m\u001b[0mstr\u001b[0m\u001b[0;34m(\u001b[0m\u001b[0mt_slice\u001b[0m\u001b[0;34m[\u001b[0m\u001b[0;34m-\u001b[0m\u001b[0;36m1\u001b[0m\u001b[0;34m]\u001b[0m\u001b[0;34m)\u001b[0m\u001b[0;34m+\u001b[0m\u001b[0;34m\".nc\"\u001b[0m\u001b[0;34m)\u001b[0m\u001b[0;34m\u001b[0m\u001b[0m\n",
      "\u001b[0;31mNameError\u001b[0m: name 'potential_density_overturning' is not defined"
     ]
    }
   ],
   "source": [
    "time_slice = []\n",
    "for i in range(0,24):\n",
    "    time_slice.append(np.arange(i*12,(i+1)*12))\n",
    "\n",
    "for t_slice in time_slice:\n",
    "    depth_integrated_pdens_transport_latx, depth_integrated_pdens_transport_laty, depth_integrated_x_interp_results, depth_integrated_y_interp_results = potential_density_overturning.perform_potential_density_overturning_calculation(t_slice)\n",
    "    depth_integrated_pdens_transport_latx.to_netcdf(\"./overturning_output/depth_integrated_pdens_transport_latx_\"+str(t_slice[0])+\"_to_\"+str(t_slice[-1])+\".nc\")\n",
    "    depth_integrated_pdens_transport_laty.to_netcdf(\"./overturning_output/depth_integrated_pdens_transport_laty_\"+str(t_slice[0])+\"_to_\"+str(t_slice[-1])+\".nc\")\n",
    "    depth_integrated_x_interp_results.to_netcdf(\"./overturning_output/depth_integrated_x_interp_results_\"+str(t_slice[0])+\"_to_\"+str(t_slice[-1])+\".nc\")\n",
    "    depth_integrated_y_interp_results.to_netcdf(\"./overturning_output/depth_integrated_y_interp_results_\"+str(t_slice[0])+\"_to_\"+str(t_slice[-1])+\".nc\")\n",
    "    \n",
    "    print()\n",
    "    "
   ]
  },
  {
   "cell_type": "code",
   "execution_count": null,
   "metadata": {},
   "outputs": [],
   "source": []
  }
 ],
 "metadata": {
  "kernelspec": {
   "display_name": "Python 3",
   "language": "python",
   "name": "python3"
  },
  "language_info": {
   "codemirror_mode": {
    "name": "ipython",
    "version": 3
   },
   "file_extension": ".py",
   "mimetype": "text/x-python",
   "name": "python",
   "nbconvert_exporter": "python",
   "pygments_lexer": "ipython3",
   "version": "3.6.0"
  }
 },
 "nbformat": 4,
 "nbformat_minor": 2
}

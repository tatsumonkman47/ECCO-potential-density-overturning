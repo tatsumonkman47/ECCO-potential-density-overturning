{
 "cells": [
  {
   "cell_type": "code",
   "execution_count": 3,
   "metadata": {},
   "outputs": [],
   "source": [
    "import warnings\n",
    "warnings.filterwarnings('ignore')\n",
    "import matplotlib.pyplot as plt\n",
    "import numpy as np\n",
    "import xarray as xr\n",
    "import cartopy as cart\n",
    "\n",
    "from xmitgcm import open_mdsdataset\n",
    "import xmitgcm\n",
    "import ecco_v4_py as ecco\n",
    "import pandas as pd\n",
    "\n",
    "from netCDF4 import Dataset\n",
    "\n",
    "from analysis_package import plotting_functions\n",
    "from analysis_package import open_datasets\n",
    "from analysis_package import integrate_on_density_surfaces\n",
    "from analysis_package import derive_potential_density_values_TEST\n",
    "\n",
    "from importlib import reload\n",
    "\n",
    "# reload modules during prototyping...\n",
    "plotting_functions = reload(plotting_functions)\n",
    "open_datasets = reload(open_datasets)\n",
    "derive_potential_density_values_TEST = reload(derive_potential_density_values_TEST)\n",
    "\n",
    "\"\"\"\n",
    "import sys\n",
    "sys.path.append('/Users/Tatsu1/ECCOv4-py/ECCOv4-py/')\n",
    "import ecco_v4_py_1 as ecco\n",
    "\"\"\"\n",
    "import os"
   ]
  },
  {
   "cell_type": "code",
   "execution_count": 4,
   "metadata": {},
   "outputs": [],
   "source": [
    "grid_path = \"./ecco_grid/ECCOv4r3_grid.nc\"\n",
    "grid = xr.open_dataset(grid_path)\n",
    "GM_PSIX_var = \"GM_PsiX\"\n",
    "GM_PSIY_var = \"GM_PsiY\"\n",
    "tile_data_dir = \"./nctiles_monthly/\""
   ]
  },
  {
   "cell_type": "code",
   "execution_count": 5,
   "metadata": {},
   "outputs": [],
   "source": [
    "time_slice = np.arange(0,288)"
   ]
  },
  {
   "cell_type": "code",
   "execution_count": 6,
   "metadata": {},
   "outputs": [
    {
     "name": "stdout",
     "output_type": "stream",
     "text": [
      "<xarray.Dataset>\n",
      "Dimensions:  (i: 90, i_g: 90, j: 90, j_g: 90, k: 50, k_l: 50, k_p1: 51, k_u: 50, tile: 13)\n",
      "Coordinates:\n",
      "  * k_p1     (k_p1) int64 0 1 2 3 4 5 6 7 8 9 ... 41 42 43 44 45 46 47 48 49 50\n",
      "  * j_g      (j_g) int64 0 1 2 3 4 5 6 7 8 9 ... 80 81 82 83 84 85 86 87 88 89\n",
      "  * i_g      (i_g) int64 0 1 2 3 4 5 6 7 8 9 ... 80 81 82 83 84 85 86 87 88 89\n",
      "  * k        (k) int64 0 1 2 3 4 5 6 7 8 9 10 ... 40 41 42 43 44 45 46 47 48 49\n",
      "  * j        (j) int64 0 1 2 3 4 5 6 7 8 9 10 ... 80 81 82 83 84 85 86 87 88 89\n",
      "  * k_u      (k_u) int64 0 1 2 3 4 5 6 7 8 9 ... 40 41 42 43 44 45 46 47 48 49\n",
      "  * i        (i) int64 0 1 2 3 4 5 6 7 8 9 10 ... 80 81 82 83 84 85 86 87 88 89\n",
      "  * k_l      (k_l) int64 0 1 2 3 4 5 6 7 8 9 ... 40 41 42 43 44 45 46 47 48 49\n",
      "  * tile     (tile) int64 0 1 2 3 4 5 6 7 8 9 10 11 12\n",
      "    XC       (tile, j, i) float32 ...\n",
      "    YC       (tile, j, i) float32 ...\n",
      "    XG       (tile, j_g, i_g) float32 ...\n",
      "    YG       (tile, j_g, i_g) float32 ...\n",
      "    Zl       (k_l) float32 ...\n",
      "    Zu       (k_u) float32 ...\n",
      "    Z        (k) float32 ...\n",
      "    Zp1      (k_p1) float32 ...\n",
      "    dxC      (tile, j, i_g) float32 ...\n",
      "    rAs      (tile, j_g, i) float32 ...\n",
      "    rAw      (tile, j, i_g) float32 ...\n",
      "    Depth    (tile, j, i) float32 ...\n",
      "    rA       (tile, j, i) float32 ...\n",
      "    dxG      (tile, j_g, i) float32 ...\n",
      "    dyG      (tile, j, i_g) float32 ...\n",
      "    rAz      (tile, j_g, i_g) float32 ...\n",
      "    dyC      (tile, j_g, i) float32 ...\n",
      "    PHrefC   (k) float32 ...\n",
      "    drC      (k_p1) float32 ...\n",
      "    PHrefF   (k_p1) float32 ...\n",
      "    drF      (k) float32 ...\n",
      "    hFacS    (k, tile, j_g, i) float32 ...\n",
      "    hFacC    (k, tile, j, i) float32 ...\n",
      "    hFacW    (k, tile, j, i_g) float32 ...\n",
      "Data variables:\n",
      "    *empty*\n",
      "Attributes:\n",
      "    author:                Ian Fenty and Ou Wang\n",
      "    Insitution:            JPL\n",
      "    product_version:       ECCO Version 4 Release 3 (ECCOv4r3) 1992-2015\n",
      "    Conventions:           CF-1.6\n",
      "    Project:               Estimating the Circulation and Climate of the Ocean\n",
      "    cdm_data_type:         Grid\n",
      "    Metadata_Conventions:  CF-1.6, Unidata Dataset Discovery v1.0, GDS v2.0\n",
      "    no_data:               NaNf\n",
      "    nz:                    50\n",
      "    date_created:          Mon May 13 23:33:40 2019\n",
      "    title:                 ECCOv4R3 MITgcm grid information\n"
     ]
    }
   ],
   "source": [
    "print(grid)"
   ]
  },
  {
   "cell_type": "code",
   "execution_count": 7,
   "metadata": {},
   "outputs": [
    {
     "name": "stdout",
     "output_type": "stream",
     "text": [
      "Loaded GM_PsiX over time slice  \n",
      "\n",
      "Loaded GM_PsiY over time slice  \n",
      "\n"
     ]
    }
   ],
   "source": [
    "GM_PSIX_ds_raw = open_datasets.open_combine_raw_ECCO_tile_files(tile_data_dir, \n",
    "                                                                GM_PSIX_var, \n",
    "                                                                time_slice)\n",
    "GM_PSIY_ds_raw = open_datasets.open_combine_raw_ECCO_tile_files(tile_data_dir, \n",
    "                                                                GM_PSIY_var, \n",
    "                                                                time_slice)"
   ]
  },
  {
   "cell_type": "code",
   "execution_count": 8,
   "metadata": {},
   "outputs": [
    {
     "name": "stdout",
     "output_type": "stream",
     "text": [
      "<xarray.Dataset>\n",
      "Dimensions:  (i: 90, j: 90, k: 50, tile: 13, time: 288)\n",
      "Coordinates:\n",
      "  * time     (time) float64 1.0 2.0 3.0 4.0 5.0 ... 285.0 286.0 287.0 288.0\n",
      "  * k        (k) float64 1.0 2.0 3.0 4.0 5.0 6.0 ... 46.0 47.0 48.0 49.0 50.0\n",
      "  * j        (j) float64 1.0 2.0 3.0 4.0 5.0 6.0 ... 86.0 87.0 88.0 89.0 90.0\n",
      "  * i        (i) float64 1.0 2.0 3.0 4.0 5.0 6.0 ... 86.0 87.0 88.0 89.0 90.0\n",
      "    dep      (k) float64 10.0 20.0 30.0 40.0 ... 5.244e+03 5.678e+03 6.134e+03\n",
      "    tim      (time) datetime64[ns] 1992-01-16 1992-02-16 ... 2015-12-16\n",
      "Dimensions without coordinates: tile\n",
      "Data variables:\n",
      "    GM_PsiX  (tile, time, k, j, i) float64 nan nan nan nan ... nan nan nan nan\n",
      "    timstep  (tile, time) float64 732.0 1.428e+03 ... 2.096e+05 2.104e+05\n",
      "    land     (tile, k, j, i) float64 nan nan nan nan nan ... nan nan nan nan nan\n",
      "    area     (tile, j, i) float64 3.623e+08 3.633e+08 ... 3.685e+08 3.611e+08\n",
      "    thic     (tile, k) float64 10.0 10.0 10.0 10.0 ... 399.0 422.0 445.0 228.2\n",
      "Attributes:\n",
      "    description:    GM_PsiX -- ECCO v4 ocean state estimate, release 3 -- 199...\n",
      "    A:              :Format      = native grid (nctiles w. 13 tiles)\n",
      "    B:              :source      = ECCO consortium (http://ecco-group.org/)\n",
      "    C:              :institution = JPL/UT/MIT/AER\n",
      "    D:              :history     = files revision history :\n",
      "    E:                                 04/20/2017: fill in geometry info for ...\n",
      "    F:                                 11/06/2016: third release of ECCO v4 (...\n",
      "    G:                             estimates revision history (from second re...\n",
      "    H:                                 employs bi-harmonic viscosity (enhance...\n",
      "    I:                                 sea-ice parameters, updated or novel o...\n",
      "    J:                                 GRACE OBP, Aquarius SSS, global mean s...\n",
      "    K:                                 time-series, extended and/or expanded ...\n",
      "    L:                                 revised weights including data and con...\n",
      "    M:                                 to account for grid-size variation and...\n",
      "    N:                                 separate time-mean and time-variable d...\n",
      "    O:                                 and controls, sea-ice costs, and initi...\n",
      "    P:                                 additional controls.\\n \n",
      "    Q:              :references  = Fukumori, I., O. Wang, I. Fenty, G. Forget...\n",
      "    R:                              ECCO Version 4 Release 3, http://hdl.hand...\n",
      "    S:                              Available at ftp://ecco.jpl.nasa.gov/Vers...\n",
      "    T:                             Forget, G., J.-M. Campin, P. Heimbach, C. ...\n",
      "    U:                              and C. Wunsch, 2015: ECCO version 4: an i...\n",
      "    V:                              non-linear inverse modeling and global oc...\n",
      "    W:                              Geoscientific Model Development, 8, 3071-...\n",
      "    date:           21-Apr-2017\n",
      "    Conventions:    CF-1.6\n",
      "    _FillValue:     nan\n",
      "    missing_value:  nan\n",
      "    program:        file created using gcmfaces_IO/write2nctiles.m \\n\n",
      "<xarray.Dataset>\n",
      "Dimensions:  (i: 90, j: 90, k: 50, tile: 13, time: 288)\n",
      "Coordinates:\n",
      "  * time     (time) float64 1.0 2.0 3.0 4.0 5.0 ... 285.0 286.0 287.0 288.0\n",
      "  * k        (k) float64 1.0 2.0 3.0 4.0 5.0 6.0 ... 46.0 47.0 48.0 49.0 50.0\n",
      "  * j        (j) float64 1.0 2.0 3.0 4.0 5.0 6.0 ... 86.0 87.0 88.0 89.0 90.0\n",
      "  * i        (i) float64 1.0 2.0 3.0 4.0 5.0 6.0 ... 86.0 87.0 88.0 89.0 90.0\n",
      "    dep      (k) float64 10.0 20.0 30.0 40.0 ... 5.244e+03 5.678e+03 6.134e+03\n",
      "    tim      (time) datetime64[ns] 1992-01-16 1992-02-16 ... 2015-12-16\n",
      "Dimensions without coordinates: tile\n",
      "Data variables:\n",
      "    GM_PsiY  (tile, time, k, j, i) float64 nan nan nan nan ... nan nan nan nan\n",
      "    timstep  (tile, time) float64 732.0 1.428e+03 ... 2.096e+05 2.104e+05\n",
      "    land     (tile, k, j, i) float64 nan nan nan nan nan ... nan nan nan nan nan\n",
      "    area     (tile, j, i) float64 3.623e+08 3.633e+08 ... 3.685e+08 3.611e+08\n",
      "    thic     (tile, k) float64 10.0 10.0 10.0 10.0 ... 399.0 422.0 445.0 228.2\n",
      "Attributes:\n",
      "    description:    GM_PsiY -- ECCO v4 ocean state estimate, release 3 -- 199...\n",
      "    A:              :Format      = native grid (nctiles w. 13 tiles)\n",
      "    B:              :source      = ECCO consortium (http://ecco-group.org/)\n",
      "    C:              :institution = JPL/UT/MIT/AER\n",
      "    D:              :history     = files revision history :\n",
      "    E:                                 04/20/2017: fill in geometry info for ...\n",
      "    F:                                 11/06/2016: third release of ECCO v4 (...\n",
      "    G:                             estimates revision history (from second re...\n",
      "    H:                                 employs bi-harmonic viscosity (enhance...\n",
      "    I:                                 sea-ice parameters, updated or novel o...\n",
      "    J:                                 GRACE OBP, Aquarius SSS, global mean s...\n",
      "    K:                                 time-series, extended and/or expanded ...\n",
      "    L:                                 revised weights including data and con...\n",
      "    M:                                 to account for grid-size variation and...\n",
      "    N:                                 separate time-mean and time-variable d...\n",
      "    O:                                 and controls, sea-ice costs, and initi...\n",
      "    P:                                 additional controls.\\n \n",
      "    Q:              :references  = Fukumori, I., O. Wang, I. Fenty, G. Forget...\n",
      "    R:                              ECCO Version 4 Release 3, http://hdl.hand...\n",
      "    S:                              Available at ftp://ecco.jpl.nasa.gov/Vers...\n",
      "    T:                             Forget, G., J.-M. Campin, P. Heimbach, C. ...\n",
      "    U:                              and C. Wunsch, 2015: ECCO version 4: an i...\n",
      "    V:                              non-linear inverse modeling and global oc...\n",
      "    W:                              Geoscientific Model Development, 8, 3071-...\n",
      "    date:           21-Apr-2017\n",
      "    Conventions:    CF-1.6\n",
      "    _FillValue:     nan\n",
      "    missing_value:  nan\n",
      "    program:        file created using gcmfaces_IO/write2nctiles.m \\n\n"
     ]
    }
   ],
   "source": [
    "GM_PSIX_ds_raw = GM_PSIX_ds_raw.drop(\"lon\").drop(\"lat\")\n",
    "GM_PSIY_ds_raw = GM_PSIY_ds_raw.drop(\"lon\").drop(\"lat\")\n",
    "print(GM_PSIX_ds_raw)\n",
    "print(GM_PSIY_ds_raw)\n"
   ]
  },
  {
   "cell_type": "code",
   "execution_count": 9,
   "metadata": {},
   "outputs": [],
   "source": [
    "# do some post-processing..\n",
    "GM_PSIX_ds_raw = GM_PSIX_ds_raw.assign_coords(k=np.arange(0,50),j=np.arange(0,90),i=np.arange(0,90))\n",
    "GM_PSIY_ds_raw = GM_PSIY_ds_raw.assign_coords(k=np.arange(0,50),j=np.arange(0,90),i=np.arange(0,90))\n",
    "\n",
    "# trim datasets if final nan padding value is present.. otherwise this won't change anything\n",
    "#GM_PSIX_ds_raw = GM_PSIX_ds_raw.isel(i=slice(0,90),j=slice(0,90),k=slice(0,50))\n",
    "#GM_PSIY_ds_raw = GM_PSIY_ds_raw.isel(i=slice(0,90),j=slice(0,90),k=slice(0,50))\n",
    "#GM_PSIX_ds_raw.load()\n",
    "#GM_PSIY_ds_raw.load()\n",
    "\n",
    "# add in tile coordinates\n",
    "tiles = np.arange(0,13)\n",
    "GM_PSIX_ds_raw[\"tile\"] = tiles\n",
    "GM_PSIY_ds_raw[\"tile\"] = tiles\n",
    "GM_PSIX_ds_raw = GM_PSIX_ds_raw.set_coords([\"tile\"]).drop(\"land\").drop(\"area\").drop(\"thic\")\n",
    "GM_PSIY_ds_raw = GM_PSIY_ds_raw.set_coords([\"tile\"]).drop(\"land\").drop(\"area\").drop(\"thic\")\n",
    "\n"
   ]
  },
  {
   "cell_type": "code",
   "execution_count": 10,
   "metadata": {},
   "outputs": [
    {
     "data": {
      "text/plain": [
       "<xarray.Dataset>\n",
       "Dimensions:     (i: 90, j: 90, k: 50, tile: 13, time: 288)\n",
       "Coordinates:\n",
       "  * time        (time) float64 1.0 2.0 3.0 4.0 5.0 ... 285.0 286.0 287.0 288.0\n",
       "  * k           (k) int64 0 1 2 3 4 5 6 7 8 9 ... 40 41 42 43 44 45 46 47 48 49\n",
       "  * j           (j) int64 0 1 2 3 4 5 6 7 8 9 ... 80 81 82 83 84 85 86 87 88 89\n",
       "  * i           (i) int64 0 1 2 3 4 5 6 7 8 9 ... 80 81 82 83 84 85 86 87 88 89\n",
       "    dep         (k) float64 10.0 20.0 30.0 ... 5.244e+03 5.678e+03 6.134e+03\n",
       "    tim         (time) datetime64[ns] 1992-01-16 1992-02-16 ... 2015-12-16\n",
       "  * tile        (tile) int64 0 1 2 3 4 5 6 7 8 9 10 11 12\n",
       "Data variables:\n",
       "    bolus_vvel  (tile, time, k, j, i) float64 nan nan nan nan ... nan nan nan\n",
       "    timstep     (tile, time) float64 732.0 1.428e+03 ... 2.096e+05 2.104e+05\n",
       "Attributes:\n",
       "    description:    GM_PsiY -- ECCO v4 ocean state estimate, release 3 -- 199...\n",
       "    A:              :Format      = native grid (nctiles w. 13 tiles)\n",
       "    B:              :source      = ECCO consortium (http://ecco-group.org/)\n",
       "    C:              :institution = JPL/UT/MIT/AER\n",
       "    D:              :history     = files revision history :\n",
       "    E:                                 04/20/2017: fill in geometry info for ...\n",
       "    F:                                 11/06/2016: third release of ECCO v4 (...\n",
       "    G:                             estimates revision history (from second re...\n",
       "    H:                                 employs bi-harmonic viscosity (enhance...\n",
       "    I:                                 sea-ice parameters, updated or novel o...\n",
       "    J:                                 GRACE OBP, Aquarius SSS, global mean s...\n",
       "    K:                                 time-series, extended and/or expanded ...\n",
       "    L:                                 revised weights including data and con...\n",
       "    M:                                 to account for grid-size variation and...\n",
       "    N:                                 separate time-mean and time-variable d...\n",
       "    O:                                 and controls, sea-ice costs, and initi...\n",
       "    P:                                 additional controls.\\n \n",
       "    Q:              :references  = Fukumori, I., O. Wang, I. Fenty, G. Forget...\n",
       "    R:                              ECCO Version 4 Release 3, http://hdl.hand...\n",
       "    S:                              Available at ftp://ecco.jpl.nasa.gov/Vers...\n",
       "    T:                             Forget, G., J.-M. Campin, P. Heimbach, C. ...\n",
       "    U:                              and C. Wunsch, 2015: ECCO version 4: an i...\n",
       "    V:                              non-linear inverse modeling and global oc...\n",
       "    W:                              Geoscientific Model Development, 8, 3071-...\n",
       "    date:           21-Apr-2017\n",
       "    Conventions:    CF-1.6\n",
       "    _FillValue:     nan\n",
       "    missing_value:  nan\n",
       "    program:        file created using gcmfaces_IO/write2nctiles.m \\n"
      ]
     },
     "execution_count": 10,
     "metadata": {},
     "output_type": "execute_result"
    }
   ],
   "source": [
    "GM_PSIX_ds_raw[\"GM_PsiX\"] = GM_PSIX_ds_raw.GM_PsiX.chunk((13,len(time_slice),50,90,90))\n",
    "GM_PSIY_ds_raw[\"GM_PsiY\"] = GM_PSIY_ds_raw.GM_PsiY.chunk((13,len(time_slice),50,90,90))\n",
    "\n",
    "bolus_u = GM_PSIX_ds_raw.copy(deep=True)\n",
    "bolus_v = GM_PSIY_ds_raw.copy(deep=True)\n",
    "bolus_u = bolus_u.rename({'GM_PsiX':'bolus_uvel'})\n",
    "bolus_v = bolus_v.rename({'GM_PsiY':'bolus_vvel'})\n",
    "bolus_u.load()\n",
    "bolus_v.load()\n"
   ]
  },
  {
   "cell_type": "code",
   "execution_count": 11,
   "metadata": {},
   "outputs": [
    {
     "name": "stdout",
     "output_type": "stream",
     "text": [
      "(13, 288, 50, 90, 90)\n"
     ]
    }
   ],
   "source": [
    "print(bolus_u.bolus_uvel.shape)"
   ]
  },
  {
   "cell_type": "code",
   "execution_count": 12,
   "metadata": {},
   "outputs": [
    {
     "name": "stdout",
     "output_type": "stream",
     "text": [
      "started tile 0\n",
      "started tile 1\n",
      "started tile 2\n",
      "started tile 3\n",
      "started tile 4\n",
      "started tile 5\n",
      "started tile 6\n",
      "started tile 7\n",
      "started tile 8\n",
      "started tile 9\n",
      "started tile 10\n",
      "started tile 11\n",
      "started tile 12\n",
      "saved tile 0\n",
      "saved tile 1\n",
      "saved tile 2\n",
      "saved tile 3\n",
      "saved tile 4\n",
      "saved tile 5\n",
      "saved tile 6\n",
      "saved tile 7\n",
      "saved tile 8\n",
      "saved tile 9\n",
      "saved tile 10\n",
      "saved tile 11\n",
      "saved tile 12\n"
     ]
    }
   ],
   "source": [
    "for tile in tiles:\n",
    "    print(\"started tile \" + str(tile))\n",
    "    GM_PSIX_ds_raw_tile = GM_PSIX_ds_raw.isel(tile=tile).fillna(0)\n",
    "    GM_PSIY_ds_raw_tile = GM_PSIY_ds_raw.isel(tile=tile).fillna(0)\n",
    "\n",
    "\n",
    "    for k in range(0,49):\n",
    "        bolus_u.bolus_uvel[tile,:,k,:,:] = (GM_PSIX_ds_raw_tile.GM_PsiX[:,k+1,:,:] - GM_PSIX_ds_raw_tile.GM_PsiX[:,k,:,:])/grid.drF[k]\n",
    "        bolus_v.bolus_vvel[tile,:,k,:,:] = (GM_PSIY_ds_raw_tile.GM_PsiY[:,k+1,:,:] - GM_PSIY_ds_raw_tile.GM_PsiY[:,k,:,:])/grid.drF[k]\n",
    "        \n",
    "bolus_u = bolus_u.rename({'i':'i_g'})\n",
    "bolus_v = bolus_v.rename({'j':'j_g'})\n",
    "\n",
    "for tile in tiles:\n",
    "    if tile < 9:\n",
    "        pass\n",
    "        bolus_u.isel(tile=tile).to_netcdf(tile_data_dir+\"BOLUS_UVEL/BOLUS_UVEL.000\"+str(tile+1)+\".nc\")\n",
    "        bolus_v.isel(tile=tile).to_netcdf(tile_data_dir+\"BOLUS_VVEL/BOLUS_VVEL.000\"+str(tile+1)+\".nc\")\n",
    "    else:\n",
    "        pass\n",
    "        bolus_u.isel(tile=tile).to_netcdf(tile_data_dir+\"BOLUS_UVEL/BOLUS_UVEL.00\"+str(tile+1)+\".nc\")\n",
    "        bolus_v.isel(tile=tile).to_netcdf(tile_data_dir+\"BOLUS_VVEL/BOLUS_VVEL.00\"+str(tile+1)+\".nc\")\n",
    "\n",
    "    print(\"saved tile \" + str(tile))\n",
    "\n"
   ]
  },
  {
   "cell_type": "code",
   "execution_count": 13,
   "metadata": {},
   "outputs": [
    {
     "name": "stdout",
     "output_type": "stream",
     "text": [
      "<xarray.DataArray 'GM_PsiX' (tile: 13, j: 90, i: 90)>\n",
      "dask.array<shape=(13, 90, 90), dtype=float64, chunksize=(13, 90, 90)>\n",
      "Coordinates:\n",
      "    time     float64 1.0\n",
      "    k        int64 0\n",
      "  * j        (j) int64 0 1 2 3 4 5 6 7 8 9 10 ... 80 81 82 83 84 85 86 87 88 89\n",
      "  * i        (i) int64 0 1 2 3 4 5 6 7 8 9 10 ... 80 81 82 83 84 85 86 87 88 89\n",
      "    dep      float64 10.0\n",
      "    tim      datetime64[ns] 1992-01-16\n",
      "  * tile     (tile) int64 0 1 2 3 4 5 6 7 8 9 10 11 12\n",
      "Attributes:\n",
      "    long_name:  GM Bolus transport stream-function : U component\n",
      "    units:      m^2/s\n",
      "<xarray.Dataset>\n",
      "Dimensions:     (i_g: 90, j: 90, k: 50, tile: 13, time: 288)\n",
      "Coordinates:\n",
      "  * time        (time) float64 1.0 2.0 3.0 4.0 5.0 ... 285.0 286.0 287.0 288.0\n",
      "  * k           (k) int64 0 1 2 3 4 5 6 7 8 9 ... 40 41 42 43 44 45 46 47 48 49\n",
      "  * j           (j) int64 0 1 2 3 4 5 6 7 8 9 ... 80 81 82 83 84 85 86 87 88 89\n",
      "  * i_g         (i_g) int64 0 1 2 3 4 5 6 7 8 9 ... 81 82 83 84 85 86 87 88 89\n",
      "    dep         (k) float64 10.0 20.0 30.0 ... 5.244e+03 5.678e+03 6.134e+03\n",
      "    tim         (time) datetime64[ns] 1992-01-16 1992-02-16 ... 2015-12-16\n",
      "  * tile        (tile) int64 0 1 2 3 4 5 6 7 8 9 10 11 12\n",
      "Data variables:\n",
      "    bolus_uvel  (tile, time, k, j, i_g) float64 0.0 0.0 0.0 0.0 ... nan nan nan\n",
      "    timstep     (tile, time) float64 732.0 1.428e+03 ... 2.096e+05 2.104e+05\n",
      "Attributes:\n",
      "    description:    GM_PsiX -- ECCO v4 ocean state estimate, release 3 -- 199...\n",
      "    A:              :Format      = native grid (nctiles w. 13 tiles)\n",
      "    B:              :source      = ECCO consortium (http://ecco-group.org/)\n",
      "    C:              :institution = JPL/UT/MIT/AER\n",
      "    D:              :history     = files revision history :\n",
      "    E:                                 04/20/2017: fill in geometry info for ...\n",
      "    F:                                 11/06/2016: third release of ECCO v4 (...\n",
      "    G:                             estimates revision history (from second re...\n",
      "    H:                                 employs bi-harmonic viscosity (enhance...\n",
      "    I:                                 sea-ice parameters, updated or novel o...\n",
      "    J:                                 GRACE OBP, Aquarius SSS, global mean s...\n",
      "    K:                                 time-series, extended and/or expanded ...\n",
      "    L:                                 revised weights including data and con...\n",
      "    M:                                 to account for grid-size variation and...\n",
      "    N:                                 separate time-mean and time-variable d...\n",
      "    O:                                 and controls, sea-ice costs, and initi...\n",
      "    P:                                 additional controls.\\n \n",
      "    Q:              :references  = Fukumori, I., O. Wang, I. Fenty, G. Forget...\n",
      "    R:                              ECCO Version 4 Release 3, http://hdl.hand...\n",
      "    S:                              Available at ftp://ecco.jpl.nasa.gov/Vers...\n",
      "    T:                             Forget, G., J.-M. Campin, P. Heimbach, C. ...\n",
      "    U:                              and C. Wunsch, 2015: ECCO version 4: an i...\n",
      "    V:                              non-linear inverse modeling and global oc...\n",
      "    W:                              Geoscientific Model Development, 8, 3071-...\n",
      "    date:           21-Apr-2017\n",
      "    Conventions:    CF-1.6\n",
      "    _FillValue:     nan\n",
      "    missing_value:  nan\n",
      "    program:        file created using gcmfaces_IO/write2nctiles.m \\n\n"
     ]
    }
   ],
   "source": [
    "print(GM_PSIX_ds_raw[\"GM_PsiX\"].isel(time=0,k=0))\n",
    "print(bolus_u)"
   ]
  },
  {
   "cell_type": "code",
   "execution_count": 14,
   "metadata": {},
   "outputs": [
    {
     "data": {
      "text/plain": [
       "<matplotlib.contour.QuadContourSet at 0x3184cda90>"
      ]
     },
     "execution_count": 14,
     "metadata": {},
     "output_type": "execute_result"
    },
    {
     "data": {
      "image/png": "[encoded data removed]",
      "text/plain": [
       "<matplotlib.figure.Figure at 0x352af22b0>"
      ]
     },
     "metadata": {
      "needs_background": "light"
     },
     "output_type": "display_data"
    }
   ],
   "source": [
    "plt.contourf(bolus_u.bolus_uvel.isel(tile=1,k=0,time=0))"
   ]
  },
  {
   "cell_type": "code",
   "execution_count": 15,
   "metadata": {
    "scrolled": false
   },
   "outputs": [
    {
     "data": {
      "text/plain": [
       "<module 'matplotlib.pyplot' from '/Users/Tatsu1/anaconda2/lib/python3.6/site-packages/matplotlib/pyplot.py'>"
      ]
     },
     "execution_count": 15,
     "metadata": {},
     "output_type": "execute_result"
    },
    {
     "data": {
      "image/png": "[encoded data removed]",
      "text/plain": [
       "<matplotlib.figure.Figure at 0x318c52b38>"
      ]
     },
     "metadata": {
      "needs_background": "light"
     },
     "output_type": "display_data"
    },
    {
     "data": {
      "image/png": "[encoded data removed]",
      "text/plain": [
       "<matplotlib.figure.Figure at 0x318a055f8>"
      ]
     },
     "metadata": {
      "needs_background": "light"
     },
     "output_type": "display_data"
    }
   ],
   "source": [
    "k_level = 49\n",
    "time_stamp = 8\n",
    "plotting_functions.world_east_vel_plot(bolus_u[\"bolus_uvel\"].isel(time=time_stamp,k=k_level),bolus_v[\"bolus_vvel\"].isel(time=time_stamp,k=k_level))\n",
    "plotting_functions.world_north_vel_plot(bolus_u[\"bolus_uvel\"].isel(time=time_stamp,k=k_level),bolus_v[\"bolus_vvel\"].isel(time=time_stamp,k=k_level))\n",
    "\n",
    "\n"
   ]
  },
  {
   "cell_type": "code",
   "execution_count": 16,
   "metadata": {},
   "outputs": [
    {
     "data": {
      "text/plain": [
       "<module 'matplotlib.pyplot' from '/Users/Tatsu1/anaconda2/lib/python3.6/site-packages/matplotlib/pyplot.py'>"
      ]
     },
     "execution_count": 16,
     "metadata": {},
     "output_type": "execute_result"
    },
    {
     "data": {
      "image/png": "[encoded data removed]",
      "text/plain": [
       "<matplotlib.figure.Figure at 0x31a5b9fd0>"
      ]
     },
     "metadata": {
      "needs_background": "light"
     },
     "output_type": "display_data"
    }
   ],
   "source": [
    "plotting_functions.world_plot(GM_PSIX_ds_raw[\"GM_PsiX\"].isel(time=0,k=0))"
   ]
  },
  {
   "cell_type": "code",
   "execution_count": 17,
   "metadata": {},
   "outputs": [
    {
     "data": {
      "text/plain": [
       "<module 'matplotlib.pyplot' from '/Users/Tatsu1/anaconda2/lib/python3.6/site-packages/matplotlib/pyplot.py'>"
      ]
     },
     "execution_count": 17,
     "metadata": {},
     "output_type": "execute_result"
    },
    {
     "data": {
      "image/png": "[encoded data removed]",
      "text/plain": [
       "<matplotlib.figure.Figure at 0x31b7497f0>"
      ]
     },
     "metadata": {
      "needs_background": "light"
     },
     "output_type": "display_data"
    }
   ],
   "source": [
    "plotting_functions.world_plot(bolus_u[\"bolus_uvel\"].isel(time=time_stamp,k=k_level))"
   ]
  },
  {
   "cell_type": "code",
   "execution_count": 18,
   "metadata": {},
   "outputs": [
    {
     "name": "stdout",
     "output_type": "stream",
     "text": [
      "0.0968951673939\n",
      "0.114704533298\n",
      "-0.143351576148\n",
      "-0.0945052578691\n"
     ]
    }
   ],
   "source": [
    "k_level=10\n",
    "print(bolus_u[\"bolus_uvel\"].isel(time=time_stamp,k=k_level).values.max())\n",
    "print(bolus_v[\"bolus_vvel\"].isel(time=time_stamp,k=k_level).values.max())\n",
    "print(bolus_u[\"bolus_uvel\"].isel(time=time_stamp,k=k_level).values.min())\n",
    "print(bolus_v[\"bolus_vvel\"].isel(time=time_stamp,k=k_level).values.min())"
   ]
  },
  {
   "cell_type": "code",
   "execution_count": null,
   "metadata": {},
   "outputs": [],
   "source": []
  }
 ],
 "metadata": {
  "kernelspec": {
   "display_name": "Python 3",
   "language": "python",
   "name": "python3"
  },
  "language_info": {
   "codemirror_mode": {
    "name": "ipython",
    "version": 3
   },
   "file_extension": ".py",
   "mimetype": "text/x-python",
   "name": "python",
   "nbconvert_exporter": "python",
   "pygments_lexer": "ipython3",
   "version": "3.6.0"
  }
 },
 "nbformat": 4,
 "nbformat_minor": 2
}

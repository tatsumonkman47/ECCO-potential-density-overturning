{
 "cells": [
  {
   "cell_type": "code",
   "execution_count": 7,
   "metadata": {},
   "outputs": [],
   "source": [
    "import warnings\n",
    "warnings.filterwarnings('ignore')\n",
    "import matplotlib.pyplot as plt\n",
    "import numpy as np\n",
    "import xarray as xr\n",
    "import cartopy as cart\n",
    "\n",
    "from xmitgcm import open_mdsdataset\n",
    "import xmitgcm\n",
    "import ecco_v4_py as ecco\n",
    "import pandas as pd\n",
    "\n",
    "from netCDF4 import Dataset\n",
    "\n",
    "from analysis_package import plotting_functions\n",
    "from analysis_package import open_datasets\n",
    "from analysis_package import integrate_on_density_surfaces\n",
    "from analysis_package import derive_potential_density_values_TEST\n",
    "\n",
    "from importlib import reload\n",
    "\n",
    "# reload modules during prototyping...\n",
    "plotting_functions = reload(plotting_functions)\n",
    "open_datasets = reload(open_datasets)\n",
    "derive_potential_density_values_TEST = reload(derive_potential_density_values_TEST)\n",
    "\n",
    "\"\"\"\n",
    "import sys\n",
    "sys.path.append('/Users/Tatsu1/ECCOv4-py/ECCOv4-py/')\n",
    "import ecco_v4_py_1 as ecco\n",
    "\"\"\"\n",
    "import os"
   ]
  },
  {
   "cell_type": "code",
   "execution_count": 8,
   "metadata": {},
   "outputs": [],
   "source": [
    "grid_path = \"./ecco_grid/ECCOv4r3_grid.nc\"\n",
    "grid = xr.open_dataset(grid_path)\n",
    "GM_PSIX_var = \"GM_PsiX\"\n",
    "GM_PSIY_var = \"GM_PsiY\"\n",
    "tile_data_dir = \"./nctiles_monthly/\""
   ]
  },
  {
   "cell_type": "code",
   "execution_count": 21,
   "metadata": {},
   "outputs": [],
   "source": [
    "time_slice = np.arange(0,288)"
   ]
  },
  {
   "cell_type": "code",
   "execution_count": 22,
   "metadata": {},
   "outputs": [
    {
     "name": "stdout",
     "output_type": "stream",
     "text": [
      "Loaded GM_PsiX over time slice  \n",
      "\n",
      "Loaded GM_PsiY over time slice  \n",
      "\n"
     ]
    }
   ],
   "source": [
    "GM_PSIX_ds_raw = open_datasets.open_combine_raw_ECCO_tile_files(tile_data_dir, \n",
    "                                                                GM_PSIX_var, \n",
    "                                                                time_slice)\n",
    "GM_PSIY_ds_raw = open_datasets.open_combine_raw_ECCO_tile_files(tile_data_dir, \n",
    "                                                                GM_PSIY_var, \n",
    "                                                                time_slice)"
   ]
  },
  {
   "cell_type": "code",
   "execution_count": 23,
   "metadata": {},
   "outputs": [],
   "source": [
    "GM_PSIX_ds_raw = GM_PSIX_ds_raw.drop(\"lon\").drop(\"lat\")\n",
    "GM_PSIY_ds_raw = GM_PSIY_ds_raw.drop(\"lon\").drop(\"lat\")\n",
    "\n"
   ]
  },
  {
   "cell_type": "code",
   "execution_count": 24,
   "metadata": {},
   "outputs": [],
   "source": [
    "# do some post-processing..\n",
    "GM_PSIX_ds_raw = GM_PSIX_ds_raw.assign_coords(k=np.arange(0,50),j=np.arange(0,90),i=np.arange(0,90))\n",
    "GM_PSIY_ds_raw = GM_PSIY_ds_raw.assign_coords(k=np.arange(0,50),j=np.arange(0,90),i=np.arange(0,90))\n",
    "\n",
    "# trim datasets if final nan padding value is present.. otherwise this won't change anything\n",
    "GM_PSIX_ds_raw = GM_PSIX_ds_raw.isel(i=slice(0,90),j=slice(0,90),k=slice(0,50))\n",
    "GM_PSIY_ds_raw = GM_PSIY_ds_raw.isel(i=slice(0,90),j=slice(0,90),k=slice(0,50))\n",
    "GM_PSIX_ds_raw.load()\n",
    "GM_PSIY_ds_raw.load()\n",
    "\n",
    "# add in tile coordinates\n",
    "tiles = np.arange(0,13)\n",
    "GM_PSIX_ds_raw[\"tile\"] = tiles\n",
    "GM_PSIY_ds_raw[\"tile\"] = tiles\n",
    "GM_PSIX_ds_raw = GM_PSIX_ds_raw.set_coords([\"tile\"]).drop(\"land\").drop(\"area\").drop(\"thic\")\n",
    "GM_PSIY_ds_raw = GM_PSIY_ds_raw.set_coords([\"tile\"]).drop(\"land\").drop(\"area\").drop(\"thic\")\n",
    "\n"
   ]
  },
  {
   "cell_type": "code",
   "execution_count": 25,
   "metadata": {},
   "outputs": [],
   "source": [
    "GM_PSIX_ds_raw[\"GM_PsiX\"] = GM_PSIX_ds_raw.GM_PsiX.chunk((13,len(time_slice),50,90,90))\n",
    "GM_PSIY_ds_raw[\"GM_PsiY\"] = GM_PSIY_ds_raw.GM_PsiY.chunk((13,len(time_slice),50,90,90))\n",
    "\n"
   ]
  },
  {
   "cell_type": "code",
   "execution_count": 39,
   "metadata": {},
   "outputs": [
    {
     "name": "stdout",
     "output_type": "stream",
     "text": [
      "started tile 0\n",
      "saved tile 0\n",
      "started tile 1\n",
      "saved tile 1\n",
      "started tile 2\n",
      "saved tile 2\n",
      "started tile 3\n",
      "saved tile 3\n",
      "started tile 4\n",
      "saved tile 4\n",
      "started tile 5\n",
      "saved tile 5\n",
      "started tile 6\n",
      "saved tile 6\n",
      "started tile 7\n",
      "saved tile 7\n",
      "started tile 8\n",
      "saved tile 8\n",
      "started tile 9\n",
      "saved tile 9\n",
      "started tile 10\n",
      "saved tile 10\n",
      "started tile 11\n",
      "saved tile 11\n",
      "started tile 12\n",
      "saved tile 12\n"
     ]
    }
   ],
   "source": [
    "for tile in tiles:\n",
    "    print(\"started tile \" + str(tile))\n",
    "    GM_PSIX_ds_raw_tile = GM_PSIX_ds_raw.isel(tile=tile)\n",
    "    GM_PSIY_ds_raw_tile = GM_PSIY_ds_raw.isel(tile=tile)\n",
    "\n",
    "    GM_PSIX_ds_plus_extra_k = xr.concat([GM_PSIX_ds_raw_tile,GM_PSIX_ds_raw_tile.isel(k=1)*np.nan],dim='k')\n",
    "    GM_PSIY_ds_plus_extra_k = xr.concat([GM_PSIY_ds_raw_tile,GM_PSIY_ds_raw_tile.isel(k=1)*np.nan],dim='k')\n",
    "\n",
    "    k_new_coords = np.arange(0,51)\n",
    "    GM_PSIX_ds_plus_extra_k.coords.update({'k':k_new_coords})\n",
    "    GM_PSIY_ds_plus_extra_k.coords.update({'k':k_new_coords})\n",
    "\n",
    "    bolus_u = GM_PSIX_ds_plus_extra_k.copy(deep=True)\n",
    "    bolus_v = GM_PSIY_ds_plus_extra_k.copy(deep=True)\n",
    "    bolus_u = bolus_u.rename({'GM_PsiX':'bolus_uvel'})\n",
    "    bolus_v = bolus_v.rename({'GM_PsiY':'bolus_vvel'})\n",
    "    bolus_u.load()\n",
    "    bolus_v.load()\n",
    "\n",
    "    for k in range(0,50):\n",
    "        bolus_u.bolus_uvel[:,k,:,:] = (GM_PSIX_ds_plus_extra_k.GM_PsiX[:,k+1,:,:] - GM_PSIX_ds_plus_extra_k.GM_PsiX[:,k,:,:])/grid.drF[k]\n",
    "        bolus_v.bolus_vvel[:,k,:,:] = (GM_PSIY_ds_plus_extra_k.GM_PsiY[:,k+1,:,:] - GM_PSIY_ds_plus_extra_k.GM_PsiY[:,k,:,:])/grid.drF[k]\n",
    "\n",
    "    bolus_u = bolus_u.isel(k=slice(0,50)).copy(deep=True).rename({'i':'i_g'})\n",
    "    bolus_v = bolus_v.isel(k=slice(0,50)).copy(deep=True).rename({'j':'j_g'})\n",
    "    \n",
    "    if tile < 9:\n",
    "        pass\n",
    "        bolus_u.to_netcdf(tile_data_dir+\"BOLUS_UVEL/BOLUS_UVEL.000\"+str(tile+1)+\".nc\")\n",
    "        bolus_v.to_netcdf(tile_data_dir+\"BOLUS_VVEL/BOLUS_VVEL.000\"+str(tile+1)+\".nc\")\n",
    "    else:\n",
    "        pass\n",
    "        bolus_u.to_netcdf(tile_data_dir+\"BOLUS_UVEL/BOLUS_UVEL.00\"+str(tile+1)+\".nc\")\n",
    "        bolus_v.to_netcdf(tile_data_dir+\"BOLUS_VVEL/BOLUS_VVEL.00\"+str(tile+1)+\".nc\")\n",
    "\n",
    "    print(\"saved tile \" + str(tile))\n",
    "\n"
   ]
  },
  {
   "cell_type": "code",
   "execution_count": 40,
   "metadata": {},
   "outputs": [
    {
     "name": "stdout",
     "output_type": "stream",
     "text": [
      "<xarray.DataArray 'GM_PsiX' (tile: 13, j: 90, i: 90)>\n",
      "dask.array<shape=(13, 90, 90), dtype=float64, chunksize=(13, 90, 90)>\n",
      "Coordinates:\n",
      "    time     float64 1.0\n",
      "    k        int64 0\n",
      "  * j        (j) int64 0 1 2 3 4 5 6 7 8 9 10 ... 80 81 82 83 84 85 86 87 88 89\n",
      "  * i        (i) int64 0 1 2 3 4 5 6 7 8 9 10 ... 80 81 82 83 84 85 86 87 88 89\n",
      "    dep      float64 10.0\n",
      "    tim      datetime64[ns] 1992-01-16\n",
      "  * tile     (tile) int64 0 1 2 3 4 5 6 7 8 9 10 11 12\n",
      "Attributes:\n",
      "    long_name:  GM Bolus transport stream-function : U component\n",
      "    units:      m^2/s\n"
     ]
    }
   ],
   "source": [
    "print(GM_PSIX_ds_raw[\"GM_PsiX\"].isel(time=0,k=0))"
   ]
  },
  {
   "cell_type": "code",
   "execution_count": 45,
   "metadata": {},
   "outputs": [
    {
     "data": {
      "text/plain": [
       "<module 'matplotlib.pyplot' from '/anaconda3/lib/python3.7/site-packages/matplotlib/pyplot.py'>"
      ]
     },
     "execution_count": 45,
     "metadata": {},
     "output_type": "execute_result"
    },
    {
     "data": {
      "image/png": "[encoded data removed]",
      "text/plain": [
       "<Figure size 1080x1080 with 14 Axes>"
      ]
     },
     "metadata": {
      "needs_background": "light"
     },
     "output_type": "display_data"
    }
   ],
   "source": [
    "plotting_functions.world_plot(GM_PSIX_ds_raw[\"GM_PsiX\"].isel(time=0,k=49))"
   ]
  },
  {
   "cell_type": "code",
   "execution_count": 42,
   "metadata": {},
   "outputs": [
    {
     "data": {
      "text/plain": [
       "<module 'matplotlib.pyplot' from '/anaconda3/lib/python3.7/site-packages/matplotlib/pyplot.py'>"
      ]
     },
     "execution_count": 42,
     "metadata": {},
     "output_type": "execute_result"
    },
    {
     "data": {
      "image/png": "[encoded data removed]",
      "text/plain": [
       "<Figure size 1080x1080 with 14 Axes>"
      ]
     },
     "metadata": {
      "needs_background": "light"
     },
     "output_type": "display_data"
    }
   ],
   "source": [
    "plotting_functions.world_plot(GM_PSIY_ds_raw[\"GM_PsiY\"].isel(time=0,k=0))"
   ]
  },
  {
   "cell_type": "code",
   "execution_count": null,
   "metadata": {},
   "outputs": [],
   "source": []
  }
 ],
 "metadata": {
  "kernelspec": {
   "display_name": "Python 3",
   "language": "python",
   "name": "python3"
  },
  "language_info": {
   "codemirror_mode": {
    "name": "ipython",
    "version": 3
   },
   "file_extension": ".py",
   "mimetype": "text/x-python",
   "name": "python",
   "nbconvert_exporter": "python",
   "pygments_lexer": "ipython3",
   "version": "3.7.3"
  }
 },
 "nbformat": 4,
 "nbformat_minor": 2
}
